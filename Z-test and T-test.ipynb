{
 "cells": [
  {
   "cell_type": "markdown",
   "id": "bef606aa",
   "metadata": {},
   "source": [
    "# `Hypothesis Testing`\n",
    "> - Z-test\n",
    "    - One sample z-test\n",
    "    - two sample z-test\n",
    "> - T-test\n",
    "    - One sample t-test\n",
    "    - two sample t-test\n",
    "> - Correlation - test (Consider as test )\n",
    "> - Chisquare-test\n",
    "> - One way ANOVA"
   ]
  },
  {
   "cell_type": "markdown",
   "id": "aa4fb36a",
   "metadata": {},
   "source": [
    "## `Z test -------------------`"
   ]
  },
  {
   "cell_type": "markdown",
   "id": "fd1fee86",
   "metadata": {},
   "source": [
    "##### Step 1: Define null and alternative hypotheses\n",
    "- $H_0 - Null Hypothesis(CLAIM)$   There is no change in mean of sample and mean of population\n",
    "- $H_A - Alternate Hypothesis(Contradiction)$ There is  chanage in mean of sample and mean of population\n",
    "\n",
    "##### Step 2: Decide the significance level\n",
    "Here we select $\\alpha$ = 0.05 and it is given that n, sample size = 50.\n",
    "<br> Calculated based upon 95% confidence interval\n",
    "\n",
    "##### Step 3: Identify the test statistic\n",
    "We know the population standard deviation and the sample is a large sample, n>30. So you use the normal distribution and the $Z_STAT$ test statistic.\n",
    "\n",
    "##### Step 4: Calculate the critical value and test statistic"
   ]
  },
  {
   "cell_type": "markdown",
   "id": "6b2a7e7b",
   "metadata": {},
   "source": [
    "## `One sample Z test` \n",
    "#### You compare the sample mean with population mean"
   ]
  },
  {
   "cell_type": "code",
   "execution_count": 1,
   "id": "fb20cc95",
   "metadata": {},
   "outputs": [],
   "source": [
    "import numpy as np\n",
    "import seaborn as sns\n",
    "import random\n",
    "\n",
    "population = np.random.normal(400,4,1000000) # consider this as a bike mileage"
   ]
  },
  {
   "cell_type": "code",
   "execution_count": 3,
   "id": "ffa0654d",
   "metadata": {},
   "outputs": [
    {
     "data": {
      "text/plain": [
       "<AxesSubplot:ylabel='Density'>"
      ]
     },
     "execution_count": 3,
     "metadata": {},
     "output_type": "execute_result"
    },
    {
     "data": {
      "image/png": "[encoded data removed]",
      "text/plain": [
       "<Figure size 432x288 with 1 Axes>"
      ]
     },
     "metadata": {
      "needs_background": "light"
     },
     "output_type": "display_data"
    }
   ],
   "source": [
    "import warnings\n",
    "warnings.filterwarnings('ignore')\n",
    "sns.distplot(population)"
   ]
  },
  {
   "cell_type": "code",
   "execution_count": 6,
   "id": "eba45d88",
   "metadata": {},
   "outputs": [],
   "source": [
    "population_mean = np.mean(population)"
   ]
  },
  {
   "cell_type": "code",
   "execution_count": 5,
   "id": "6cc0ef64",
   "metadata": {},
   "outputs": [],
   "source": [
    "sample = random.sample(list(population),50)"
   ]
  },
  {
   "cell_type": "code",
   "execution_count": 7,
   "id": "92e31a4f",
   "metadata": {},
   "outputs": [
    {
     "name": "stdout",
     "output_type": "stream",
     "text": [
      "z_statistics = -0.9012726713903081 and p-value = 0.3674433604369314\n"
     ]
    }
   ],
   "source": [
    "from statsmodels.stats.weightstats import ztest\n",
    "z_statistics , p_value = ztest(x1=sample,x2=None,value=population_mean)\n",
    "print(f\"z_statistics = {z_statistics} and p-value = {p_value}\")"
   ]
  },
  {
   "cell_type": "markdown",
   "id": "fb6dd02b",
   "metadata": {},
   "source": [
    "### z-score is z-statistic: (x-mu)/std_error\n",
    "### is P_value < 0.05 ?? : no \n",
    "**Rejected the alternate hypothesis in this case**"
   ]
  },
  {
   "cell_type": "markdown",
   "id": "2ecab95a",
   "metadata": {},
   "source": [
    "## `Two sample Z test` \n",
    "#### You compare 2 samples mean\n",
    "\n",
    "##### H0 :- means difference between two sample is 0 (Similar mean)\n",
    "##### H1:- mean difference between two sample is not 0 (Mean is not similar)"
   ]
  },
  {
   "cell_type": "code",
   "execution_count": 9,
   "id": "ad03faba",
   "metadata": {},
   "outputs": [],
   "source": [
    "sample1 = np.random.normal(400,4,50) # consider this as a bike mileage\n",
    "sample2 = np.random.normal(200,4,50) # consider this as a bike mileage"
   ]
  },
  {
   "cell_type": "code",
   "execution_count": 10,
   "id": "626abb2d",
   "metadata": {},
   "outputs": [
    {
     "name": "stdout",
     "output_type": "stream",
     "text": [
      "z_statistics = 263.42851192432545 and p-value = 0.0\n"
     ]
    }
   ],
   "source": [
    "from statsmodels.stats.weightstats import ztest\n",
    "z_statistics , p_value = ztest(x1=sample1,x2=sample2)\n",
    "print(f\"z_statistics = {z_statistics} and p-value = {p_value}\")"
   ]
  },
  {
   "cell_type": "markdown",
   "id": "ebf856df",
   "metadata": {},
   "source": [
    "### I don't have a population here"
   ]
  },
  {
   "cell_type": "markdown",
   "id": "42ae88c2",
   "metadata": {},
   "source": [
    "##### is P_value < 0.05 ?? -> Yes \n",
    "Rejected the null hypothesis in this case and accept alternate hypothesis"
   ]
  },
  {
   "cell_type": "code",
   "execution_count": 11,
   "id": "6b9dddd3",
   "metadata": {},
   "outputs": [
    {
     "name": "stdout",
     "output_type": "stream",
     "text": [
      "z_statistics = -0.7845072878064632 and p-value = 0.4327425073429464\n"
     ]
    }
   ],
   "source": [
    "sample1 = np.random.normal(400,4,50) # consider this as a bike mileage\n",
    "sample2 = np.random.normal(400,4,50) # consider this as a bike mileage\n",
    "\n",
    "from statsmodels.stats.weightstats import ztest\n",
    "z_statistics , p_value = ztest(x1=sample1,x2=sample2)\n",
    "print(f\"z_statistics = {z_statistics} and p-value = {p_value}\")"
   ]
  },
  {
   "cell_type": "markdown",
   "id": "1a008f08",
   "metadata": {},
   "source": [
    "##### is P_value < 0.05 ?? -> no \n",
    "Rejected the alternate hypothesis in this case"
   ]
  },
  {
   "cell_type": "markdown",
   "id": "6c67484e",
   "metadata": {},
   "source": [
    "# `T-test ------------------------`\n",
    "### Population variance is not known\n",
    "\n",
    "##### `Very rarely we know the variance of the population.` \n",
    "\n",
    "A common strategy to assess hypothesis is to conduct a t test. A t test can tell whether two groups have the same mean. \n",
    "A t test can be estimated for:\n",
    "* 1) One sample t test\n",
    "* 2) Two sample t test (including paired t test)\n",
    "\n",
    "We assume that the samples are randomly selected, independent and come from a normally distributed population with unknown but equal variances.\n"
   ]
  },
  {
   "cell_type": "markdown",
   "id": "f88a7d06",
   "metadata": {},
   "source": [
    "## `One Sample T test`\n",
    "\n",
    "We use a one sample T-test to determine whether our sample mean (observed average) is statistically significantly different to the population mean (expected average).\n",
    "\n",
    "![image.png](data:image/jpeg;base64,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)\n",
    "\n"
   ]
  },
  {
   "cell_type": "markdown",
   "id": "308f5f10",
   "metadata": {},
   "source": [
    "- $H_0 - Null Hypothesis(CLAIM)$   There is no change in mean of sample and mean of population\n",
    "- $H_A - Alternate Hypothesis(Contradiction)$ There is  change in mean of sample and mean of population"
   ]
  },
  {
   "cell_type": "markdown",
   "id": "e6481592",
   "metadata": {},
   "source": [
    "### Example\n",
    "\n",
    "* Let’s say we want to calculate the resting systolic blood pressure of 20 first-year resident female doctors and compare it to the general public population mean of 120 mmHg.\n",
    "\n",
    "The null hypothesis is that there is no significant difference between the blood pressure of the resident female doctors and the general population."
   ]
  },
  {
   "cell_type": "code",
   "execution_count": 24,
   "id": "9a5b3d8c",
   "metadata": {},
   "outputs": [],
   "source": [
    "female_doctor_bps = [128, 127, 118, 115, 144, 142, 133, 140, 132, 131, \n",
    "                     111, 132, 149, 122, 139, 119, 136, 129, 126, 128]"
   ]
  },
  {
   "cell_type": "code",
   "execution_count": 25,
   "id": "667c03ba",
   "metadata": {},
   "outputs": [],
   "source": [
    "from scipy.stats import ttest_1samp\n",
    "ttest_results = ttest_1samp(female_doctor_bps,120)"
   ]
  },
  {
   "cell_type": "code",
   "execution_count": 27,
   "id": "18a85298",
   "metadata": {},
   "outputs": [
    {
     "data": {
      "text/plain": [
       "Ttest_1sampResult(statistic=4.512403659336718, pvalue=0.00023838063630967753)"
      ]
     },
     "execution_count": 27,
     "metadata": {},
     "output_type": "execute_result"
    }
   ],
   "source": [
    "ttest_results"
   ]
  },
  {
   "cell_type": "markdown",
   "id": "e1f58ee2",
   "metadata": {},
   "source": [
    "The p-value in this case is 0.0002, which is far less than the standard thresholds of 0.05 or 0.01, so we reject the null hypothesis and we can say there is a statistically significant difference between the resting systolic blood pressure of the resident female doctors and the general population."
   ]
  },
  {
   "cell_type": "markdown",
   "id": "356e6ef9",
   "metadata": {},
   "source": [
    "## `Two Sample T test`\n",
    "\n",
    "A two sample T-test is used to compare the means of two separate samples.\n",
    "\n",
    "It is calculated as follows (assuming equal variances)\n",
    "\n",
    "![image.png](data:image/png;base64,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)"
   ]
  },
  {
   "cell_type": "markdown",
   "id": "56131d19",
   "metadata": {},
   "source": [
    "### Example\n",
    "\n",
    "* Let’s look at an example to compare the blood pressure of male consultant doctors with the junior resident female doctors we explored above.\n",
    "\n",
    "Our null hypothesis in this case is that there is no statistically significant difference in the mean of male consulting doctors and junior resident female doctors."
   ]
  },
  {
   "cell_type": "code",
   "execution_count": 12,
   "id": "a07e3eee",
   "metadata": {},
   "outputs": [],
   "source": [
    "# grp - 1\n",
    "female_doctor_bps = [128, 127, 118, 115, 144, 142, 133, 140, 132, 131, \n",
    "                     111, 132, 149, 122, 139, 119, 136, 129, 126, 128]\n",
    "\n",
    "# grp - 2\n",
    "male_consultant_bps = [118, 115, 112, 120, 124, 130, 123, 110, 120, 121,\n",
    "                      123, 125, 129, 130, 112, 117, 119, 120, 123, 128]"
   ]
  },
  {
   "cell_type": "code",
   "execution_count": 13,
   "id": "d228eb43",
   "metadata": {},
   "outputs": [
    {
     "data": {
      "text/plain": [
       "<AxesSubplot:ylabel='Density'>"
      ]
     },
     "execution_count": 13,
     "metadata": {},
     "output_type": "execute_result"
    },
    {
     "data": {
      "image/png": "[encoded data removed]",
      "text/plain": [
       "<Figure size 432x288 with 1 Axes>"
      ]
     },
     "metadata": {
      "needs_background": "light"
     },
     "output_type": "display_data"
    }
   ],
   "source": [
    "sns.distplot(female_doctor_bps)\n",
    "sns.distplot(male_consultant_bps)"
   ]
  },
  {
   "cell_type": "code",
   "execution_count": 14,
   "id": "36232610",
   "metadata": {},
   "outputs": [],
   "source": [
    "from scipy.stats import ttest_ind\n",
    "ttest_results = ttest_ind(female_doctor_bps,male_consultant_bps)"
   ]
  },
  {
   "cell_type": "code",
   "execution_count": 15,
   "id": "fdd0818a",
   "metadata": {},
   "outputs": [
    {
     "data": {
      "text/plain": [
       "Ttest_indResult(statistic=3.5143256412718564, pvalue=0.0011571376404026158)"
      ]
     },
     "execution_count": 15,
     "metadata": {},
     "output_type": "execute_result"
    }
   ],
   "source": [
    "ttest_results"
   ]
  },
  {
   "cell_type": "markdown",
   "id": "08dfffc5",
   "metadata": {},
   "source": [
    "## `Paired T Test (Good to know)`\n",
    "- **Previously the observations in our two samples have been completely independent of one another**.\n",
    "\n",
    "- **Perhaps we want to compare two related samples, e.g. a before and after test, we might use a paired T-test**."
   ]
  },
  {
   "cell_type": "markdown",
   "id": "63f17653",
   "metadata": {},
   "source": [
    "### Example\n",
    "\n",
    "* We will measure the amount of sleep got by patients before and after taking soporific drugs to help them sleep.\n",
    "\n",
    "* **The null hypothesis is that the soporific drug has no effect on the sleep duration of the patients**."
   ]
  },
  {
   "cell_type": "code",
   "execution_count": 16,
   "id": "b9e59613",
   "metadata": {},
   "outputs": [],
   "source": [
    "control = [8.0, 7.1, 6.5, 6.7, 7.2, 5.4, 4.7, 8.1, 6.3, 4.8]\n",
    "treatment = [9.9, 7.9, 7.6, 6.8, 7.1, 9.9, 10.5, 9.7, 10.9, 8.2]"
   ]
  },
  {
   "cell_type": "code",
   "execution_count": 17,
   "id": "1987a5de",
   "metadata": {},
   "outputs": [
    {
     "data": {
      "text/plain": [
       "Ttest_relResult(statistic=-3.6244859951782136, pvalue=0.0055329408161001415)"
      ]
     },
     "execution_count": 17,
     "metadata": {},
     "output_type": "execute_result"
    }
   ],
   "source": [
    "from scipy.stats import ttest_rel\n",
    "ttest_rel(control, treatment)"
   ]
  },
  {
   "cell_type": "markdown",
   "id": "6b9d9449",
   "metadata": {},
   "source": [
    "The p-value is 0.0055, which again is below than the standard thresholds of 0.05 or 0.01, so we reject the null hypothesis and we can say there is a statistically significant difference in sleep duration caused by the soporific drug."
   ]
  },
  {
   "cell_type": "markdown",
   "id": "832aad28",
   "metadata": {},
   "source": [
    "# `END ---------------------------------------`"
   ]
  }
 ],
 "metadata": {
  "kernelspec": {
   "display_name": "Python 3 (ipykernel)",
   "language": "python",
   "name": "python3"
  },
  "language_info": {
   "codemirror_mode": {
    "name": "ipython",
    "version": 3
   },
   "file_extension": ".py",
   "mimetype": "text/x-python",
   "name": "python",
   "nbconvert_exporter": "python",
   "pygments_lexer": "ipython3",
   "version": "3.9.7"
  }
 },
 "nbformat": 4,
 "nbformat_minor": 5
}
