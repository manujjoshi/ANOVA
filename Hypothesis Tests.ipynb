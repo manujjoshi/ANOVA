{
 "cells": [
  {
   "cell_type": "markdown",
   "id": "33c9c77f",
   "metadata": {},
   "source": [
    "# `Hypothesis Tests`\n",
    "\n",
    "### 1. `Chi Square test(Categorical vs Categorical)`\n",
    "![](https://www.statisticshowto.com/wp-content/uploads/2013/09/chi-square-formula.jpg)\n",
    "![](https://www.gaussianwaves.com/gaussianwaves/wp-content/uploads/2020/05/normal-distribution-and-chi-squared-distribution.png)\n",
    "### Example of chi table\n",
    "![](https://www.mun.ca/biology/scarr/IntroPopGen-Table-D-01-smc.jpg)\n",
    "\n",
    "### 2. `Correlation Test(Cont vs Cont)`\n",
    "\n",
    "### How two variables are varing together\n",
    "### gives us direction, doesn't tell about strength of relationship\n",
    "![](https://encrypted-tbn0.gstatic.com/images?q=tbn:ANd9GcQV245-6GdSDwFOo0hiLaPZZ6Y1jN8P3VHXng&usqp=CAU)\n",
    "### strength is given by correlation\n",
    "### range -1 to +1\n",
    "![](https://encrypted-tbn0.gstatic.com/images?q=tbn:ANd9GcTog3k-YkFZfBJeObTRu9XzLGU8z0A4uNBggg&usqp=CAU)\n",
    "![](https://miro.medium.com/max/863/0*b5WYHrsFP0q4Pna2)\n",
    "\n",
    "### 3. `T Test (Cont vs 2 Cat)`\n",
    "### T-statistic:\n",
    "![](https://encrypted-tbn0.gstatic.com/images?q=tbn:ANd9GcQiR4FahPlkJ3REbrymtnsIsVHFsjU75ZVKlg&usqp=CAU)\n",
    "![](https://toptipbio.com/wp-content/uploads/2017/07/Standard-error-formula.jpg)\n",
    "![](http://www.ttable.org/uploads/2/1/7/9/21795380/published/9754276.png?1517416376)\n",
    "\n",
    "### 4. `Anova (Cont vs more than 2 Cat)`\n",
    "### F table:\n",
    "![](https://web.stanford.edu/dept/radiology/cgi-bin/classes/stats_data_analysis/lesson_5/ftable_01_1.gif)"
   ]
  },
  {
   "cell_type": "markdown",
   "id": "739e92db",
   "metadata": {},
   "source": [
    "## `END ---------------------`"
   ]
  }
 ],
 "metadata": {
  "kernelspec": {
   "display_name": "Python 3 (ipykernel)",
   "language": "python",
   "name": "python3"
  },
  "language_info": {
   "codemirror_mode": {
    "name": "ipython",
    "version": 3
   },
   "file_extension": ".py",
   "mimetype": "text/x-python",
   "name": "python",
   "nbconvert_exporter": "python",
   "pygments_lexer": "ipython3",
   "version": "3.9.7"
  }
 },
 "nbformat": 4,
 "nbformat_minor": 5
}
