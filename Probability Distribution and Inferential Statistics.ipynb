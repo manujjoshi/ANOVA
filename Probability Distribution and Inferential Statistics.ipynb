{
 "cells": [
  {
   "cell_type": "markdown",
   "id": "d9561677",
   "metadata": {},
   "source": [
    "# `Probability Distributions`\n",
    "#### In case of discrete random variable, the probability distribution is defined by `probability mass function`.\n",
    "#### In case of continuous random variable, the probability distribution is defined by `probability density function`.\n",
    "\n",
    "# `Discrete`:\n",
    "\n",
    "### 1. Geometric Distribution:\n",
    "[Indepth intuition](https://www.cuemath.com/geometric-distribution-formula/)\n",
    "- **Probability Mass Function(PMF)** => P(x=r) = q**(r-1) * p\n",
    "- **E[X]** = 1/p\n",
    "- **Var[X]** = (1-p)/p\\*\\*2\n",
    "![](https://encrypted-tbn0.gstatic.com/images?q=tbn:ANd9GcSQW6pMnbbAHzUqlOgWTtSlAEcaW9aUxDuJfQ&usqp=CAU)\n",
    "\n",
    "### 2. Bernoulli Distribution:\n",
    "- Bernoulli Distribution is a type of discrete probability distribution where every experiment conducted asks a question that can be answered only in yes or no. In other words, the random variable can be 1 with a probability p or it can be 0 with a probability (1 - p). Such an experiment is called a Bernoulli trial. A pass or fail exam can be modeled by a Bernoulli Distribution.\n",
    "- If we have a Binomial Distribution where n = 1 then it becomes a Bernoulli Distribution. As this distribution is very easy to understand, it is used as a basis for deriving more complex distributions. Bernoulli Distribution can be used to describe events that can only have two outcomes, that is, success or failure.\n",
    "-  A random experiment that can only have an outcome of either 1 or 0 is known as a Bernoulli trial. \n",
    "[Indepth intuition](https://www.cuemath.com/data/bernoulli-distribution/)\n",
    "- f(x, p) = p**x (1 - p) ** (1 - x), x ϵ{0, 1}\n",
    "- **E[X]** = p\n",
    "- **Var[X]** = p(1 - p) = p . q\n",
    "\n",
    "## `Permutation and Combination`\n",
    "- Permutation and combination form the principles of counting and they are applied in various situations. A permutation is a count of the different arrangements which can be made from the given set of things. In permutation the details matter, as the order or sequence is important. Writing the names of three countries {USA, Brazil, Australia} or {Australia, USA, Brazil) or { Brazil, Australia, USA} is different and this sequence in which the names of the countries are written is important. In combinations, the name of three countries is just a single group, and the sequence or order does not matter.\n",
    "\n",
    "\n",
    "#### [Link to read](https://www.cuemath.com/data/permutations-and-combinations/)\n",
    "![](https://d138zd1ktt9iqe.cloudfront.net/media/seo_landing_files/permutations-and-combinations-formulas-1623316592.png)\n",
    "##### `Permutations`\n",
    "- A permutation is an arrangement in a definite order of a number of objects taken some or all at a time.\n",
    "\n",
    "##### `Combination`\n",
    "- A combination is all about grouping. The number of different groups which can be formed from the available things can be calculated using combinations."
   ]
  },
  {
   "cell_type": "code",
   "execution_count": 4,
   "id": "6d63fc74",
   "metadata": {},
   "outputs": [
    {
     "name": "stdout",
     "output_type": "stream",
     "text": [
      "(1, 2, 3)\n",
      "(1, 3, 2)\n",
      "(2, 1, 3)\n",
      "(2, 3, 1)\n",
      "(3, 1, 2)\n",
      "(3, 2, 1)\n"
     ]
    }
   ],
   "source": [
    "# A Python program to print all\n",
    "# permutations using library function\n",
    "from itertools import permutations\n",
    " \n",
    "# Get all permutations of [1, 2, 3]\n",
    "perm = permutations([1, 2, 3],3)\n",
    " \n",
    "# Print the obtained permutations\n",
    "for i in list(perm):\n",
    "    print (i)"
   ]
  },
  {
   "cell_type": "code",
   "execution_count": 3,
   "id": "0e09c3af",
   "metadata": {},
   "outputs": [
    {
     "name": "stdout",
     "output_type": "stream",
     "text": [
      "(1, 2, 3)\n"
     ]
    }
   ],
   "source": [
    "from itertools import combinations\n",
    " \n",
    "# Get all combinations of [1, 2, 3]\n",
    "# and length 3\n",
    "comb = combinations([1, 2, 3],3)\n",
    " \n",
    "# Print the obtained combinations\n",
    "for i in list(comb):\n",
    "    print (i)"
   ]
  },
  {
   "cell_type": "markdown",
   "id": "19b4c992",
   "metadata": {},
   "source": [
    "### 3. Binomial Distribution:\n",
    "- [Indepth intuition](https://www.cuemath.com/algebra/binomial-distribution/)\n",
    "![](https://d138zd1ktt9iqe.cloudfront.net/media/seo_landing_files/binomial-distribution-01-1621924404.png)\n",
    "\n",
    "- **Mean** μ = np\n",
    "- **Variance** σ2 = npq\n",
    "- **Standard Deviation** σ= √(npq)\n",
    "- Where p is the probability of success q is the probability of failure, where q = 1-p\n",
    "![](https://onlinestatbook.com/2/probability/binomial1.jpg)\n",
    "\n",
    "### 4. Discrete Poission Distribution:\n",
    "- [Indepth Intuition](https://www.cuemath.com/data/poisson-distribution/)\n",
    "- Poisson distribution is a theoretical discrete probability and is also known as the Poisson distribution probability mass function. \n",
    "- It is used to find the probability of an independent event that is occurring in a fixed interval of time and has a constant mean rate.\n",
    "- In other words, Poisson distribution is used to estimate how many times an event is likely to occur within the given period of time.\n",
    "- Poisson distribution has wide use in the fields of business as well as in biology.\n",
    "- Poisson distribution formula is used to find the probability of an event that happens independently, discretely over a fixed time period, when the mean rate of occurrence is constant over time. The Poisson distribution formula is applied when there is a large number of possible outcomes.\n",
    "- Poisson distribution is named after the French mathematician Denis Poisson.\n",
    "![](https://d138zd1ktt9iqe.cloudfront.net/media/seo_landing_files/poisson-distribution-1623139045.png)\n",
    "- f(x) = P(X=x) = (e-λ λx )/x!\n",
    "- E(X) = λ\n",
    "- V(X) = λ\n",
    "\n",
    "#### Applications of Poisson Distribution\n",
    "There are various applications of the Poisson distribution. The random variables that follow a Poisson distribution are as follows:\n",
    "\n",
    "1. To count the number of defects of a finished product\n",
    "2. To count the number of deaths in a country by any disease or natural calamity\n",
    "3. To count the number of infected plants in the field\n",
    "4. To count the number of bacteria in the organisms or the radioactive decay in atoms\n",
    "5. To calculate the waiting time between the events.\n",
    "\n",
    "#### Important Notes\n",
    "1. The formula for Poisson distribution is f(x) = P(X=x) = (e-λ λx )/x!.\n",
    "2. For the Poisson distribution, λ is always greater than 0.\n",
    "3. For Poisson distribution, the mean and the variance of the distribution are equal.\n",
    "- The Poisson distribution table shows different values of Poisson distribution for various values of λ, where λ>0. Here in the table given below, we can see that, for P(X =0) and λ = 0.5, the value of the probability mass function is 0.6065 or 60.65%.\n",
    "![](https://d138zd1ktt9iqe.cloudfront.net/media/seo_landing_files/poisson-distribution-table-1618475280.png)\n",
    "\n",
    "# `Continious`:\n",
    "\n",
    "### 1. `Uniform Distribution`\n",
    "- [CLick here to read](https://www.cuemath.com/uniform-distribution-formula/)\n",
    "- [CLick here to watch jbstatistics video](https://www.youtube.com/watch?v=-qt8CPIadWQ&ab_channel=jbstatistics)\n",
    "![](https://d138zd1ktt9iqe.cloudfront.net/media/seo_landing_files/uniform-distribution-formula-1619669556.png)\n",
    "- A uniform distribution is a continuous probability distribution and relates to the events which are likely to occur equally. A uniform distribution is defined by two parameters, a and b, where a is the minimum value and b is the maximum value. It is generally denoted as u(a, b).\n",
    "\n",
    "### 2. `Normal Distribution`\n",
    "- [Click here to read](https://www.cuemath.com/normal-distribution-formula/)\n",
    "- [CLick here to watch jbstatistics video](https://www.youtube.com/watch?v=iYiOVISWXS4&ab_channel=jbstatistics)\n",
    "![](https://d138zd1ktt9iqe.cloudfront.net/media/seo_landing_files/normal-distribution-formula-2-1618469861.png)\n",
    "![](https://d138zd1ktt9iqe.cloudfront.net/media/seo_landing_files/probability-density-function-2-1618469958.png)\n",
    "![](https://qph.fs.quoracdn.net/main-qimg-68ae44a88e5fbc5e71c9da4f4d105e1e)"
   ]
  },
  {
   "cell_type": "markdown",
   "id": "f5b5fb0f",
   "metadata": {},
   "source": [
    "# `Inferential Statistics`\n",
    "- Sample distribution will be **normal** when taken larger sample\n",
    "\n",
    "### `Central Limit Theorem`\n",
    "#### [Indepth Intuition Read here](https://www.cuemath.com/data/central-limit-theorem/)\n",
    "![](https://d138zd1ktt9iqe.cloudfront.net/media/seo_landing_files/central-limit-theorem-formula-1637296571.png)"
   ]
  },
  {
   "cell_type": "code",
   "execution_count": null,
   "id": "3299c7cc",
   "metadata": {},
   "outputs": [],
   "source": []
  },
  {
   "cell_type": "code",
   "execution_count": null,
   "id": "39430fa0",
   "metadata": {},
   "outputs": [],
   "source": []
  }
 ],
 "metadata": {
  "kernelspec": {
   "display_name": "Python 3 (ipykernel)",
   "language": "python",
   "name": "python3"
  },
  "language_info": {
   "codemirror_mode": {
    "name": "ipython",
    "version": 3
   },
   "file_extension": ".py",
   "mimetype": "text/x-python",
   "name": "python",
   "nbconvert_exporter": "python",
   "pygments_lexer": "ipython3",
   "version": "3.9.7"
  }
 },
 "nbformat": 4,
 "nbformat_minor": 5
}
