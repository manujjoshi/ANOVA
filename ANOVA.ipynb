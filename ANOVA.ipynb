{
 "cells": [
  {
   "cell_type": "markdown",
   "id": "9f0a70bc",
   "metadata": {},
   "source": [
    "# `ANOVA ----------------------------------`\n",
    "\n",
    "---\n",
    "\n",
    "\n",
    "![](https://cdn.technologynetworks.com/tn/images/thumbs/jpeg/640_360/one-way-vs-two-way-anova-definition-differences-assumptions-and-hypotheses-306553.jpg)"
   ]
  },
  {
   "cell_type": "code",
   "execution_count": 121,
   "id": "fa61a4d4",
   "metadata": {},
   "outputs": [],
   "source": [
    "import pandas as pd\n",
    "import numpy as np\n",
    "import matplotlib.pyplot as plt\n",
    "import seaborn as sns\n",
    "import warnings\n",
    "warnings.filterwarnings('ignore')"
   ]
  },
  {
   "cell_type": "code",
   "execution_count": 122,
   "id": "853ba058",
   "metadata": {},
   "outputs": [],
   "source": [
    "data=pd.read_csv('Churn_Modelling.csv')"
   ]
  },
  {
   "cell_type": "markdown",
   "id": "a5243978",
   "metadata": {},
   "source": [
    "## `One way ANOVA`"
   ]
  },
  {
   "cell_type": "markdown",
   "id": "ff484b98",
   "metadata": {},
   "source": [
    "### `Mathematics behind it`"
   ]
  },
  {
   "cell_type": "code",
   "execution_count": 123,
   "id": "addb234e",
   "metadata": {},
   "outputs": [
    {
     "data": {
      "text/plain": [
       "100090.2398809998"
      ]
     },
     "execution_count": 123,
     "metadata": {},
     "output_type": "execute_result"
    }
   ],
   "source": [
    "Total_mean=data['EstimatedSalary'].mean()\n",
    "Total_mean"
   ]
  },
  {
   "cell_type": "markdown",
   "id": "5a65d059",
   "metadata": {},
   "source": [
    "### `SST -----------------------------------------------( Sum of squares total )`"
   ]
  },
  {
   "cell_type": "code",
   "execution_count": 124,
   "id": "556f60bc",
   "metadata": {},
   "outputs": [
    {
     "data": {
      "text/plain": [
       "33071260384561.055"
      ]
     },
     "execution_count": 124,
     "metadata": {},
     "output_type": "execute_result"
    }
   ],
   "source": [
    "tot = 0\n",
    "for i in data['EstimatedSalary']:\n",
    "    tot = tot + (i-Total_mean) ** 2\n",
    "SST = tot\n",
    "SST"
   ]
  },
  {
   "cell_type": "code",
   "execution_count": 125,
   "id": "130d0efb",
   "metadata": {},
   "outputs": [
    {
     "data": {
      "text/plain": [
       "9999"
      ]
     },
     "execution_count": 125,
     "metadata": {},
     "output_type": "execute_result"
    }
   ],
   "source": [
    "n=len(data['EstimatedSalary'])\n",
    "df_total = n - 1\n",
    "df_total"
   ]
  },
  {
   "cell_type": "markdown",
   "id": "d15e7ed6",
   "metadata": {},
   "source": [
    "### `SSB ------------------------------------------( Sum of Squares Between )`"
   ]
  },
  {
   "cell_type": "code",
   "execution_count": 126,
   "id": "c747bdc8",
   "metadata": {},
   "outputs": [],
   "source": [
    "grp_france = data.loc[data[\"Geography\"]=='France','EstimatedSalary']\n",
    "grp_germany = data.loc[data[\"Geography\"]=='Germany','EstimatedSalary']\n",
    "grp_spain = data.loc[data[\"Geography\"]=='Spain','EstimatedSalary']"
   ]
  },
  {
   "cell_type": "code",
   "execution_count": 127,
   "id": "0e3a2fca",
   "metadata": {},
   "outputs": [],
   "source": [
    "mean_grp_france=grp_france.mean()\n",
    "mean_grp_germany=grp_germany.mean()\n",
    "mean_grp_spain=grp_spain.mean()"
   ]
  },
  {
   "cell_type": "code",
   "execution_count": 128,
   "id": "ecf547f7",
   "metadata": {},
   "outputs": [
    {
     "data": {
      "text/plain": [
       "3855234803.335819"
      ]
     },
     "execution_count": 128,
     "metadata": {},
     "output_type": "execute_result"
    }
   ],
   "source": [
    "SSB = (len(grp_france) * (mean_grp_france - Total_mean) ** 2) + (len(grp_germany) * (mean_grp_germany - Total_mean) ** 2) + (len(grp_spain) *(mean_grp_spain - Total_mean) ** 2)\n",
    "SSB"
   ]
  },
  {
   "cell_type": "code",
   "execution_count": 129,
   "id": "fa5204ae",
   "metadata": {},
   "outputs": [
    {
     "data": {
      "text/plain": [
       "2"
      ]
     },
     "execution_count": 129,
     "metadata": {},
     "output_type": "execute_result"
    }
   ],
   "source": [
    "C = 3\n",
    "df_columns= C-1   # degree of freedom\n",
    "df_columns"
   ]
  },
  {
   "cell_type": "markdown",
   "id": "3e0a1098",
   "metadata": {},
   "source": [
    "### `MSB`"
   ]
  },
  {
   "cell_type": "code",
   "execution_count": 130,
   "id": "58d15b1c",
   "metadata": {},
   "outputs": [
    {
     "data": {
      "text/plain": [
       "1927617401.6679094"
      ]
     },
     "execution_count": 130,
     "metadata": {},
     "output_type": "execute_result"
    }
   ],
   "source": [
    "MSB = SSB / df_columns\n",
    "MSB"
   ]
  },
  {
   "cell_type": "markdown",
   "id": "67c6e5da",
   "metadata": {},
   "source": [
    "### `SSE ------------------------------------------( Sum of squares within / error)`"
   ]
  },
  {
   "cell_type": "code",
   "execution_count": 131,
   "id": "129edf1e",
   "metadata": {},
   "outputs": [
    {
     "data": {
      "text/plain": [
       "16479987041382.168"
      ]
     },
     "execution_count": 131,
     "metadata": {},
     "output_type": "execute_result"
    }
   ],
   "source": [
    "fran_tot = 0\n",
    "for i in grp_france:\n",
    "    fran_tot = fran_tot + (i - mean_grp_france) ** 2\n",
    "fran_tot"
   ]
  },
  {
   "cell_type": "code",
   "execution_count": 132,
   "id": "567dafd1",
   "metadata": {},
   "outputs": [
    {
     "data": {
      "text/plain": [
       "8513602900859.931"
      ]
     },
     "execution_count": 132,
     "metadata": {},
     "output_type": "execute_result"
    }
   ],
   "source": [
    "ger_tot = 0\n",
    "for i in grp_germany:\n",
    "    ger_tot = ger_tot + (i - mean_grp_germany) ** 2\n",
    "ger_tot"
   ]
  },
  {
   "cell_type": "code",
   "execution_count": 133,
   "id": "426de905",
   "metadata": {},
   "outputs": [
    {
     "data": {
      "text/plain": [
       "8073815207515.501"
      ]
     },
     "execution_count": 133,
     "metadata": {},
     "output_type": "execute_result"
    }
   ],
   "source": [
    "spain_tot = 0\n",
    "for i in grp_spain:\n",
    "    spain_tot = spain_tot + (i - mean_grp_spain) ** 2\n",
    "spain_tot"
   ]
  },
  {
   "cell_type": "code",
   "execution_count": 134,
   "id": "532e2259",
   "metadata": {},
   "outputs": [
    {
     "data": {
      "text/plain": [
       "33067405149757.598"
      ]
     },
     "execution_count": 134,
     "metadata": {},
     "output_type": "execute_result"
    }
   ],
   "source": [
    "SSE = fran_tot + spain_tot + ger_tot\n",
    "SSE"
   ]
  },
  {
   "cell_type": "markdown",
   "id": "94577798",
   "metadata": {},
   "source": [
    "### `MSE`"
   ]
  },
  {
   "cell_type": "code",
   "execution_count": 135,
   "id": "c849a621",
   "metadata": {},
   "outputs": [
    {
     "data": {
      "text/plain": [
       "3307732834.8262076"
      ]
     },
     "execution_count": 135,
     "metadata": {},
     "output_type": "execute_result"
    }
   ],
   "source": [
    "MSE = SSE / (n - C)  # degree of freedom\n",
    "MSE"
   ]
  },
  {
   "cell_type": "markdown",
   "id": "bdd72b24",
   "metadata": {},
   "source": [
    "#### Just checking"
   ]
  },
  {
   "cell_type": "code",
   "execution_count": 136,
   "id": "0b8204ff",
   "metadata": {},
   "outputs": [
    {
     "data": {
      "text/plain": [
       "33071260384561.055"
      ]
     },
     "execution_count": 136,
     "metadata": {},
     "output_type": "execute_result"
    }
   ],
   "source": [
    "SST #### SST"
   ]
  },
  {
   "cell_type": "code",
   "execution_count": 137,
   "id": "bcad4543",
   "metadata": {},
   "outputs": [],
   "source": [
    "sums = SSB + SSE   #### Sum of Both"
   ]
  },
  {
   "cell_type": "code",
   "execution_count": 138,
   "id": "a19c692c",
   "metadata": {},
   "outputs": [
    {
     "name": "stdout",
     "output_type": "stream",
     "text": [
      "You made some error\n",
      "Difference of:0.12109375\n"
     ]
    }
   ],
   "source": [
    "if SST == (SSE + SSB):   # fulfilled the condition\n",
    "    print('Calculations are correct')\n",
    "else:\n",
    "    print('You made some error')\n",
    "    print(f'Difference of:{SST - sums}')"
   ]
  },
  {
   "cell_type": "markdown",
   "id": "bc0e6394",
   "metadata": {},
   "source": [
    "### F-score"
   ]
  },
  {
   "cell_type": "code",
   "execution_count": 139,
   "id": "d2f03fb1",
   "metadata": {},
   "outputs": [
    {
     "name": "stdout",
     "output_type": "stream",
     "text": [
      "F-value: 0.5827609114534756\n",
      "df1 = 2\n",
      "df2 = 9997\n",
      "alpha = 0.05\n"
     ]
    }
   ],
   "source": [
    "F_value = MSB / MSE  \n",
    "print(f'F-value: {F_value}')\n",
    "print(f'df1 = {df_columns}')   # numerator df\n",
    "print(f'df2 = {(n - C)}')       # denominator df\n",
    "print(f'alpha = {0.05}')"
   ]
  },
  {
   "cell_type": "markdown",
   "id": "bee74126",
   "metadata": {},
   "source": [
    "### Manually we found from Tables:\n",
    "> - **Critical F-value:\t2.99663016** [Link to find F-critical](https://www.danielsoper.com/statcalc/calculator.aspx?id=4)\n",
    "> - **F-statistic: 0.5827609114534756**\n",
    "> - **P-value: .558408** [Link to find P-value](https://www.socscistatistics.com/pvalues/fdistribution.aspx)\n",
    "\n",
    "\n",
    "#### F-statistic < F-critical : `Fail to reject null hypothesis`\n",
    "#### P-value > 0.05 : `Fail to reject null hypothesis`\n",
    "#### `Geography and estimated Salary are not related`\n",
    "\n",
    "-----"
   ]
  },
  {
   "cell_type": "markdown",
   "id": "7d2480ac",
   "metadata": {},
   "source": [
    "### `Direct Function`"
   ]
  },
  {
   "cell_type": "code",
   "execution_count": 140,
   "id": "fb0054ce",
   "metadata": {},
   "outputs": [],
   "source": [
    "grp_france = data.loc[data[\"Geography\"]=='France','EstimatedSalary']\n",
    "grp_germany = data.loc[data[\"Geography\"]=='Germany','EstimatedSalary']\n",
    "grp_spain = data.loc[data[\"Geography\"]=='Spain','EstimatedSalary']"
   ]
  },
  {
   "cell_type": "code",
   "execution_count": 141,
   "id": "30377aea",
   "metadata": {},
   "outputs": [
    {
     "data": {
      "text/plain": [
       "<AxesSubplot:xlabel='EstimatedSalary', ylabel='Density'>"
      ]
     },
     "execution_count": 141,
     "metadata": {},
     "output_type": "execute_result"
    },
    {
     "data": {
      "image/png": "[encoded data removed]",
      "text/plain": [
       "<Figure size 432x288 with 1 Axes>"
      ]
     },
     "metadata": {
      "needs_background": "light"
     },
     "output_type": "display_data"
    }
   ],
   "source": [
    "sns.distplot(grp_france)\n",
    "sns.distplot(grp_germany)\n",
    "sns.distplot(grp_spain)"
   ]
  },
  {
   "cell_type": "code",
   "execution_count": 142,
   "id": "e806bd67",
   "metadata": {},
   "outputs": [
    {
     "data": {
      "text/plain": [
       "9999"
      ]
     },
     "execution_count": 142,
     "metadata": {},
     "output_type": "execute_result"
    }
   ],
   "source": [
    "df_total= n-1\n",
    "df_total"
   ]
  },
  {
   "cell_type": "code",
   "execution_count": 143,
   "id": "e0afe931",
   "metadata": {},
   "outputs": [
    {
     "data": {
      "text/plain": [
       "F_onewayResult(statistic=0.5827609114534064, pvalue=0.5583736355799094)"
      ]
     },
     "execution_count": 143,
     "metadata": {},
     "output_type": "execute_result"
    }
   ],
   "source": [
    "from scipy.stats import f_oneway\n",
    "\n",
    "f_oneway(grp_france,grp_germany,grp_spain)"
   ]
  },
  {
   "cell_type": "markdown",
   "id": "8290f321",
   "metadata": {},
   "source": [
    "#### pvalue is > then 0.05  `Fail to reject null hypothesis`\n",
    "#### `EstimatedSalary and Geography are not related`"
   ]
  },
  {
   "cell_type": "markdown",
   "id": "e396256a",
   "metadata": {},
   "source": [
    "## `Two way ANOVA ( one numerical, 2 categorical )` 2 dimensions ( row and column )"
   ]
  },
  {
   "cell_type": "markdown",
   "id": "08f93a55",
   "metadata": {},
   "source": [
    "### `Direct function`"
   ]
  },
  {
   "cell_type": "markdown",
   "id": "c0fb1f37",
   "metadata": {},
   "source": [
    "#### Example 1"
   ]
  },
  {
   "cell_type": "code",
   "execution_count": 145,
   "id": "b68e9725",
   "metadata": {},
   "outputs": [
    {
     "data": {
      "text/html": [
       "<div>\n",
       "<style scoped>\n",
       "    .dataframe tbody tr th:only-of-type {\n",
       "        vertical-align: middle;\n",
       "    }\n",
       "\n",
       "    .dataframe tbody tr th {\n",
       "        vertical-align: top;\n",
       "    }\n",
       "\n",
       "    .dataframe thead th {\n",
       "        text-align: right;\n",
       "    }\n",
       "</style>\n",
       "<table border=\"1\" class=\"dataframe\">\n",
       "  <thead>\n",
       "    <tr style=\"text-align: right;\">\n",
       "      <th></th>\n",
       "      <th>sum_sq</th>\n",
       "      <th>df</th>\n",
       "      <th>F</th>\n",
       "      <th>PR(&gt;F)</th>\n",
       "    </tr>\n",
       "  </thead>\n",
       "  <tbody>\n",
       "    <tr>\n",
       "      <th>Gender</th>\n",
       "      <td>7.743494e+02</td>\n",
       "      <td>1.0</td>\n",
       "      <td>7.058593</td>\n",
       "      <td>0.007901</td>\n",
       "    </tr>\n",
       "    <tr>\n",
       "      <th>Geography</th>\n",
       "      <td>2.597272e+03</td>\n",
       "      <td>2.0</td>\n",
       "      <td>11.837735</td>\n",
       "      <td>0.000007</td>\n",
       "    </tr>\n",
       "    <tr>\n",
       "      <th>Gender:Geography</th>\n",
       "      <td>2.645788e+01</td>\n",
       "      <td>2.0</td>\n",
       "      <td>0.120589</td>\n",
       "      <td>0.886400</td>\n",
       "    </tr>\n",
       "    <tr>\n",
       "      <th>Residual</th>\n",
       "      <td>1.096373e+06</td>\n",
       "      <td>9994.0</td>\n",
       "      <td>NaN</td>\n",
       "      <td>NaN</td>\n",
       "    </tr>\n",
       "  </tbody>\n",
       "</table>\n",
       "</div>"
      ],
      "text/plain": [
       "                        sum_sq      df          F    PR(>F)\n",
       "Gender            7.743494e+02     1.0   7.058593  0.007901\n",
       "Geography         2.597272e+03     2.0  11.837735  0.000007\n",
       "Gender:Geography  2.645788e+01     2.0   0.120589  0.886400\n",
       "Residual          1.096373e+06  9994.0        NaN       NaN"
      ]
     },
     "execution_count": 145,
     "metadata": {},
     "output_type": "execute_result"
    }
   ],
   "source": [
    "import statsmodels.api as sm\n",
    "from statsmodels.formula.api import ols\n",
    "\n",
    "### perform two-way ANOVA\n",
    "model = ols('Age ~ Gender + Geography + Gender:Geography', data=data).fit()\n",
    "sm.stats.anova_lm(model, typ=2)"
   ]
  },
  {
   "cell_type": "markdown",
   "id": "51f7b7e1",
   "metadata": {},
   "source": [
    "#### `Since both Gender and Geography are < 0.05, both factors have a statistically significant effect on Age`."
   ]
  },
  {
   "cell_type": "markdown",
   "id": "becb9b72",
   "metadata": {},
   "source": [
    "--------------------\n",
    "\n",
    "#### Example 2"
   ]
  },
  {
   "cell_type": "markdown",
   "id": "91437cf9",
   "metadata": {},
   "source": [
    "- A two-way ANOVA is used to determine whether or not there is a statistically significant difference between the means of three or more independent groups that have been split on two factors.\n",
    "\n",
    "- The purpose of a two-way ANOVA is to determine how two factors impact a response variable, and to determine whether or not there is an interaction between the two factors on the response variable.\n",
    "\n",
    "- This tutorial explains how to conduct a two-way ANOVA in Python.\n",
    "\n",
    "##### Example: Two-Way ANOVA in Python\n",
    "- A botanist wants to know whether or not plant growth is influenced by sunlight exposure and watering frequency. She plants 30 seeds and lets them grow for two months under different conditions for sunlight exposure and watering frequency. After two months, she records the height of each plant, in inches.\n",
    "\n",
    "##### Use the following steps to perform a two-way ANOVA to determine if watering frequency and sunlight exposure have a significant effect on plant growth, and to determine if there is any interaction effect between watering frequency and sunlight exposure.\n",
    "\n",
    "### Step 1: Enter the data.\n",
    "\n",
    "First, we’ll create a pandas DataFrame that contains the following three variables:\n",
    "\n",
    "- water: how frequently each plant was watered: daily or weekly\n",
    "- sun: how much sunlight exposure each plant received: low, medium, or high\n",
    "- height: the height of each plant (in inches) after two months"
   ]
  },
  {
   "cell_type": "code",
   "execution_count": 115,
   "id": "ef85640a",
   "metadata": {},
   "outputs": [
    {
     "data": {
      "text/html": [
       "<div>\n",
       "<style scoped>\n",
       "    .dataframe tbody tr th:only-of-type {\n",
       "        vertical-align: middle;\n",
       "    }\n",
       "\n",
       "    .dataframe tbody tr th {\n",
       "        vertical-align: top;\n",
       "    }\n",
       "\n",
       "    .dataframe thead th {\n",
       "        text-align: right;\n",
       "    }\n",
       "</style>\n",
       "<table border=\"1\" class=\"dataframe\">\n",
       "  <thead>\n",
       "    <tr style=\"text-align: right;\">\n",
       "      <th></th>\n",
       "      <th>water</th>\n",
       "      <th>sun</th>\n",
       "      <th>height</th>\n",
       "    </tr>\n",
       "  </thead>\n",
       "  <tbody>\n",
       "    <tr>\n",
       "      <th>0</th>\n",
       "      <td>daily</td>\n",
       "      <td>low</td>\n",
       "      <td>6</td>\n",
       "    </tr>\n",
       "    <tr>\n",
       "      <th>1</th>\n",
       "      <td>daily</td>\n",
       "      <td>low</td>\n",
       "      <td>6</td>\n",
       "    </tr>\n",
       "    <tr>\n",
       "      <th>2</th>\n",
       "      <td>daily</td>\n",
       "      <td>low</td>\n",
       "      <td>6</td>\n",
       "    </tr>\n",
       "    <tr>\n",
       "      <th>3</th>\n",
       "      <td>daily</td>\n",
       "      <td>low</td>\n",
       "      <td>5</td>\n",
       "    </tr>\n",
       "    <tr>\n",
       "      <th>4</th>\n",
       "      <td>daily</td>\n",
       "      <td>low</td>\n",
       "      <td>6</td>\n",
       "    </tr>\n",
       "    <tr>\n",
       "      <th>5</th>\n",
       "      <td>daily</td>\n",
       "      <td>med</td>\n",
       "      <td>5</td>\n",
       "    </tr>\n",
       "    <tr>\n",
       "      <th>6</th>\n",
       "      <td>daily</td>\n",
       "      <td>med</td>\n",
       "      <td>5</td>\n",
       "    </tr>\n",
       "    <tr>\n",
       "      <th>7</th>\n",
       "      <td>daily</td>\n",
       "      <td>med</td>\n",
       "      <td>6</td>\n",
       "    </tr>\n",
       "    <tr>\n",
       "      <th>8</th>\n",
       "      <td>daily</td>\n",
       "      <td>med</td>\n",
       "      <td>4</td>\n",
       "    </tr>\n",
       "    <tr>\n",
       "      <th>9</th>\n",
       "      <td>daily</td>\n",
       "      <td>med</td>\n",
       "      <td>5</td>\n",
       "    </tr>\n",
       "  </tbody>\n",
       "</table>\n",
       "</div>"
      ],
      "text/plain": [
       "   water  sun  height\n",
       "0  daily  low       6\n",
       "1  daily  low       6\n",
       "2  daily  low       6\n",
       "3  daily  low       5\n",
       "4  daily  low       6\n",
       "5  daily  med       5\n",
       "6  daily  med       5\n",
       "7  daily  med       6\n",
       "8  daily  med       4\n",
       "9  daily  med       5"
      ]
     },
     "execution_count": 115,
     "metadata": {},
     "output_type": "execute_result"
    }
   ],
   "source": [
    "import numpy as np\n",
    "import pandas as pd\n",
    "\n",
    "#create data\n",
    "data = pd.DataFrame({'water': np.repeat(['daily', 'weekly'], 15),\n",
    "                   'sun': np.tile(np.repeat(['low', 'med', 'high'], 5), 2),\n",
    "                   'height': [6, 6, 6, 5, 6, 5, 5, 6, 4, 5,\n",
    "                              6, 6, 7, 8, 7, 3, 4, 4, 4, 5,\n",
    "                              4, 4, 4, 4, 4, 5, 6, 6, 7, 8]})\n",
    "\n",
    "#view first ten rows of data \n",
    "data[:10]"
   ]
  },
  {
   "cell_type": "markdown",
   "id": "096a66fe",
   "metadata": {},
   "source": [
    "### Step 2: Perform the two-way ANOVA.\n",
    "\n",
    "- Next, we’ll perform the two-way ANOVA using the **anova_lm()** function from the statsmodels library:"
   ]
  },
  {
   "cell_type": "code",
   "execution_count": 118,
   "id": "dece4556",
   "metadata": {},
   "outputs": [
    {
     "data": {
      "text/html": [
       "<div>\n",
       "<style scoped>\n",
       "    .dataframe tbody tr th:only-of-type {\n",
       "        vertical-align: middle;\n",
       "    }\n",
       "\n",
       "    .dataframe tbody tr th {\n",
       "        vertical-align: top;\n",
       "    }\n",
       "\n",
       "    .dataframe thead th {\n",
       "        text-align: right;\n",
       "    }\n",
       "</style>\n",
       "<table border=\"1\" class=\"dataframe\">\n",
       "  <thead>\n",
       "    <tr style=\"text-align: right;\">\n",
       "      <th></th>\n",
       "      <th>sum_sq</th>\n",
       "      <th>df</th>\n",
       "      <th>F</th>\n",
       "      <th>PR(&gt;F)</th>\n",
       "    </tr>\n",
       "  </thead>\n",
       "  <tbody>\n",
       "    <tr>\n",
       "      <th>water</th>\n",
       "      <td>8.533333</td>\n",
       "      <td>1.0</td>\n",
       "      <td>16.0000</td>\n",
       "      <td>0.000527</td>\n",
       "    </tr>\n",
       "    <tr>\n",
       "      <th>sun</th>\n",
       "      <td>24.866667</td>\n",
       "      <td>2.0</td>\n",
       "      <td>23.3125</td>\n",
       "      <td>0.000002</td>\n",
       "    </tr>\n",
       "    <tr>\n",
       "      <th>water:sun</th>\n",
       "      <td>2.466667</td>\n",
       "      <td>2.0</td>\n",
       "      <td>2.3125</td>\n",
       "      <td>0.120667</td>\n",
       "    </tr>\n",
       "    <tr>\n",
       "      <th>Residual</th>\n",
       "      <td>12.800000</td>\n",
       "      <td>24.0</td>\n",
       "      <td>NaN</td>\n",
       "      <td>NaN</td>\n",
       "    </tr>\n",
       "  </tbody>\n",
       "</table>\n",
       "</div>"
      ],
      "text/plain": [
       "              sum_sq    df        F    PR(>F)\n",
       "water       8.533333   1.0  16.0000  0.000527\n",
       "sun        24.866667   2.0  23.3125  0.000002\n",
       "water:sun   2.466667   2.0   2.3125  0.120667\n",
       "Residual   12.800000  24.0      NaN       NaN"
      ]
     },
     "execution_count": 118,
     "metadata": {},
     "output_type": "execute_result"
    }
   ],
   "source": [
    "import statsmodels.api as sm\n",
    "from statsmodels.formula.api import ols\n",
    "\n",
    "### perform two-way ANOVA\n",
    "model = ols('height ~ water + sun + water:sun', data=data).fit()\n",
    "sm.stats.anova_lm(model, typ=2)"
   ]
  },
  {
   "cell_type": "markdown",
   "id": "6c158ffa",
   "metadata": {},
   "source": [
    "### Step 3: Interpret the results.\n",
    "\n",
    "We can see the following p-values for each of the factors in the table:\n",
    "\n",
    "- **water:** p-value = .000527\n",
    "- **sun:** p-value = .0000002\n",
    "- **water*sun:** p-value = .120667\n",
    "> - Since the p-values for water and sun are both less than .05, this means that both factors have a statistically significant effect on plant height.\n",
    "\n",
    "- And since the p-value for the interaction effect (.120667) is not less than .05, this tells us that there is **no significant interaction effect between sunlight exposure and watering frequency**.\n",
    "\n",
    "> - Note: Although the ANOVA results tell us that watering frequency and sunlight exposure have a statistically significant effect on plant height, we would need to perform post-hoc tests to determine exactly how different levels of water and sunlight affect plant height."
   ]
  },
  {
   "cell_type": "markdown",
   "id": "4f54ae9f",
   "metadata": {},
   "source": [
    "# END ---------------------------------------------"
   ]
  },
  {
   "cell_type": "code",
   "execution_count": null,
   "id": "7e7a57b3",
   "metadata": {},
   "outputs": [],
   "source": []
  }
 ],
 "metadata": {
  "kernelspec": {
   "display_name": "Python 3 (ipykernel)",
   "language": "python",
   "name": "python3"
  },
  "language_info": {
   "codemirror_mode": {
    "name": "ipython",
    "version": 3
   },
   "file_extension": ".py",
   "mimetype": "text/x-python",
   "name": "python",
   "nbconvert_exporter": "python",
   "pygments_lexer": "ipython3",
   "version": "3.9.7"
  }
 },
 "nbformat": 4,
 "nbformat_minor": 5
}
