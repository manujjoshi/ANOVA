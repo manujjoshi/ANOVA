{
 "cells": [
  {
   "cell_type": "markdown",
   "id": "598e7f92",
   "metadata": {},
   "source": [
    "# `Descriptive Statistics`"
   ]
  },
  {
   "cell_type": "code",
   "execution_count": 1,
   "id": "f8f033d2",
   "metadata": {},
   "outputs": [],
   "source": [
    "import numpy as np\n",
    "import pandas as pd\n",
    "import matplotlib.pyplot as plt\n",
    "import seaborn as sns"
   ]
  },
  {
   "cell_type": "markdown",
   "id": "40d63209",
   "metadata": {},
   "source": [
    "## `Central tendency Measure`"
   ]
  },
  {
   "cell_type": "markdown",
   "id": "6dd942e9",
   "metadata": {},
   "source": [
    "# 1) Mean"
   ]
  },
  {
   "cell_type": "code",
   "execution_count": 21,
   "id": "4c433b76",
   "metadata": {},
   "outputs": [
    {
     "name": "stdout",
     "output_type": "stream",
     "text": [
      "[188202.61729838 120007.86041836 148936.89920529 212044.65996007\n",
      " 193377.8995075   51136.10600618 147504.42087628  92432.13958512\n",
      "  94839.05741032 120529.92509692 107202.17855804 172713.67534815\n",
      " 138051.88625735 106083.75082464 122193.16163727 116683.71636871\n",
      " 174703.95365788  89742.08681171 115653.38508255  57295.21303491\n",
      " -27649.4907917  132680.92977202 143221.80994298  62891.74897968\n",
      " 213487.73119938  27281.71627006 102287.92586507  90640.80749871\n",
      " 176638.96071792 173467.93849501 107747.37128485 118908.12598011\n",
      "  55610.71261849    960.1765888   82604.39253369 107817.4484552\n",
      " 161514.53403639 160118.99243922  80633.6591296   84884.86247123\n",
      "  47572.35174665  28999.10314105  14686.49046875 197538.76976159\n",
      "  74517.39091242  78096.28491944  37360.2319975  138874.5177916\n",
      "  19305.1076221   89362.9859893 ]\n"
     ]
    }
   ],
   "source": [
    "np.random.seed(0)\n",
    "salary = np.random.normal(100000,50000,50)\n",
    "print(salary)"
   ]
  },
  {
   "cell_type": "code",
   "execution_count": 22,
   "id": "2e70b1e6",
   "metadata": {},
   "outputs": [
    {
     "name": "stderr",
     "output_type": "stream",
     "text": [
      "/home/milan/anaconda3/lib/python3.8/site-packages/seaborn/distributions.py:2557: FutureWarning: `distplot` is a deprecated function and will be removed in a future version. Please adapt your code to use either `displot` (a figure-level function with similar flexibility) or `histplot` (an axes-level function for histograms).\n",
      "  warnings.warn(msg, FutureWarning)\n"
     ]
    },
    {
     "data": {
      "text/plain": [
       "<AxesSubplot:ylabel='Density'>"
      ]
     },
     "execution_count": 22,
     "metadata": {},
     "output_type": "execute_result"
    },
    {
     "data": {
      "image/png": "[encoded data removed]",
      "text/plain": [
       "<Figure size 432x288 with 1 Axes>"
      ]
     },
     "metadata": {
      "needs_background": "light"
     },
     "output_type": "display_data"
    }
   ],
   "source": [
    "sns.distplot(salary)"
   ]
  },
  {
   "cell_type": "code",
   "execution_count": 29,
   "id": "1d764a7a",
   "metadata": {},
   "outputs": [
    {
     "name": "stdout",
     "output_type": "stream",
     "text": [
      "mean salary of amazon employee = 107027.9636156549\n"
     ]
    }
   ],
   "source": [
    "print(f\"mean salary of amazon employee = {np.mean(salary)}\")"
   ]
  },
  {
   "cell_type": "code",
   "execution_count": 30,
   "id": "7f08802a",
   "metadata": {},
   "outputs": [
    {
     "data": {
      "text/plain": [
       "array([ 1.88202617e+05,  1.20007860e+05,  1.48936899e+05,  2.12044660e+05,\n",
       "        1.93377900e+05,  5.11361060e+04,  1.47504421e+05,  9.24321396e+04,\n",
       "        9.48390574e+04,  1.20529925e+05,  1.07202179e+05,  1.72713675e+05,\n",
       "        1.38051886e+05,  1.06083751e+05,  1.22193162e+05,  1.16683716e+05,\n",
       "        1.74703954e+05,  8.97420868e+04,  1.15653385e+05,  5.72952130e+04,\n",
       "       -2.76494908e+04,  1.32680930e+05,  1.43221810e+05,  6.28917490e+04,\n",
       "        2.13487731e+05,  2.72817163e+04,  1.02287926e+05,  9.06408075e+04,\n",
       "        1.76638961e+05,  1.73467938e+05,  1.07747371e+05,  1.18908126e+05,\n",
       "        5.56107126e+04,  9.60176589e+02,  8.26043925e+04,  1.07817448e+05,\n",
       "        1.61514534e+05,  1.60118992e+05,  8.06336591e+04,  8.48848625e+04,\n",
       "        4.75723517e+04,  2.89991031e+04,  1.46864905e+04,  1.97538770e+05,\n",
       "        7.45173909e+04,  7.80962849e+04,  3.73602320e+04,  1.38874518e+05,\n",
       "        1.93051076e+04,  8.93629860e+04,  1.00000000e+07])"
      ]
     },
     "execution_count": 30,
     "metadata": {},
     "output_type": "execute_result"
    }
   ],
   "source": [
    "## CEO salary append to the list\n",
    "salary_ceo = np.append(salary,10000000) # adding a outlier here\n",
    "salary_ceo"
   ]
  },
  {
   "cell_type": "code",
   "execution_count": 31,
   "id": "f1e9563e",
   "metadata": {},
   "outputs": [
    {
     "name": "stderr",
     "output_type": "stream",
     "text": [
      "/home/milan/anaconda3/lib/python3.8/site-packages/seaborn/distributions.py:2557: FutureWarning: `distplot` is a deprecated function and will be removed in a future version. Please adapt your code to use either `displot` (a figure-level function with similar flexibility) or `histplot` (an axes-level function for histograms).\n",
      "  warnings.warn(msg, FutureWarning)\n"
     ]
    },
    {
     "data": {
      "text/plain": [
       "<AxesSubplot:ylabel='Density'>"
      ]
     },
     "execution_count": 31,
     "metadata": {},
     "output_type": "execute_result"
    },
    {
     "data": {
      "image/png": "[encoded data removed]",
      "text/plain": [
       "<Figure size 432x288 with 1 Axes>"
      ]
     },
     "metadata": {
      "needs_background": "light"
     },
     "output_type": "display_data"
    }
   ],
   "source": [
    "sns.distplot(salary_ceo)"
   ]
  },
  {
   "cell_type": "code",
   "execution_count": 32,
   "id": "c9af04af",
   "metadata": {},
   "outputs": [
    {
     "name": "stdout",
     "output_type": "stream",
     "text": [
      "mean salary of amazon employee = 301007.8074663283\n"
     ]
    }
   ],
   "source": [
    "print(f\"mean salary of amazon employee = {np.mean(salary_ceo)}\")"
   ]
  },
  {
   "cell_type": "markdown",
   "id": "cb06567c",
   "metadata": {},
   "source": [
    "# 2.Median"
   ]
  },
  {
   "cell_type": "code",
   "execution_count": 34,
   "id": "c000bb79",
   "metadata": {},
   "outputs": [
    {
     "name": "stdout",
     "output_type": "stream",
     "text": [
      "mean salary of amazon employee = 301007.8074663283\n",
      "median salary of amazon employee = 107747.37128484581\n"
     ]
    }
   ],
   "source": [
    "print(f\"mean salary of amazon employee = {np.mean(salary_ceo)}\")\n",
    "print(f\"median salary of amazon employee = {np.median(salary_ceo)}\")"
   ]
  },
  {
   "cell_type": "markdown",
   "id": "13d91288",
   "metadata": {},
   "source": [
    "# 3. Trimmed mean"
   ]
  },
  {
   "cell_type": "code",
   "execution_count": 36,
   "id": "97695b01",
   "metadata": {},
   "outputs": [
    {
     "name": "stdout",
     "output_type": "stream",
     "text": [
      "mean salary of amazon employee = 107027.9636156549\n",
      "median salary of amazon employee = 107474.77492144486\n"
     ]
    },
    {
     "name": "stderr",
     "output_type": "stream",
     "text": [
      "/home/milan/anaconda3/lib/python3.8/site-packages/seaborn/distributions.py:2557: FutureWarning: `distplot` is a deprecated function and will be removed in a future version. Please adapt your code to use either `displot` (a figure-level function with similar flexibility) or `histplot` (an axes-level function for histograms).\n",
      "  warnings.warn(msg, FutureWarning)\n"
     ]
    },
    {
     "data": {
      "image/png": "[encoded data removed]",
      "text/plain": [
       "<Figure size 432x288 with 1 Axes>"
      ]
     },
     "metadata": {
      "needs_background": "light"
     },
     "output_type": "display_data"
    }
   ],
   "source": [
    "salary_ceo_Removed_outlier = list(filter(lambda x: x < 10000000 ,salary_ceo)) # trimmming out the outliers\n",
    "sns.distplot(salary_ceo_Removed_outlier)\n",
    "\n",
    "print(f\"mean salary of amazon employee = {np.mean(salary_ceo_Removed_outlier)}\")\n",
    "print(f\"median salary of amazon employee = {np.median(salary_ceo_Removed_outlier)}\")"
   ]
  },
  {
   "cell_type": "markdown",
   "id": "86b8df49",
   "metadata": {},
   "source": [
    "# 4. IQM"
   ]
  },
  {
   "cell_type": "code",
   "execution_count": 45,
   "id": "3fbf929f",
   "metadata": {},
   "outputs": [
    {
     "name": "stderr",
     "output_type": "stream",
     "text": [
      "/home/milan/anaconda3/lib/python3.8/site-packages/seaborn/distributions.py:2557: FutureWarning: `distplot` is a deprecated function and will be removed in a future version. Please adapt your code to use either `displot` (a figure-level function with similar flexibility) or `histplot` (an axes-level function for histograms).\n",
      "  warnings.warn(msg, FutureWarning)\n"
     ]
    },
    {
     "data": {
      "text/plain": [
       "<AxesSubplot:ylabel='Density'>"
      ]
     },
     "execution_count": 45,
     "metadata": {},
     "output_type": "execute_result"
    },
    {
     "data": {
      "image/png": "[encoded data removed]",
      "text/plain": [
       "<Figure size 432x288 with 1 Axes>"
      ]
     },
     "metadata": {
      "needs_background": "light"
     },
     "output_type": "display_data"
    }
   ],
   "source": [
    "lower = np.array([-110000000 ,-85505000, -4586666550])\n",
    "upper = np.array([110000000 ,85505000, 4586666505])\n",
    "\n",
    "\n",
    "salary_simulated = np.concatenate((lower,salary_ceo))\n",
    "salary_simulated = np.concatenate((salary_simulated,upper))\n",
    "sns.distplot(salary_simulated)"
   ]
  },
  {
   "cell_type": "code",
   "execution_count": 47,
   "id": "7ea57fa4",
   "metadata": {},
   "outputs": [
    {
     "name": "stdout",
     "output_type": "stream",
     "text": [
      "q1= 62891.748979677905 and q3= 160118.99243922057\n"
     ]
    }
   ],
   "source": [
    "q1= np.percentile(salary_simulated,25)\n",
    "q3= np.percentile(salary_simulated,75)\n",
    "print(f\"q1= {q1} and q3= {q3}\")"
   ]
  },
  {
   "cell_type": "code",
   "execution_count": 48,
   "id": "ab9771e3",
   "metadata": {},
   "outputs": [
    {
     "name": "stdout",
     "output_type": "stream",
     "text": [
      "mean salary of amazon employee = 107027.9636156549\n",
      "median salary of amazon employee = 107474.77492144486\n"
     ]
    },
    {
     "name": "stderr",
     "output_type": "stream",
     "text": [
      "/home/milan/anaconda3/lib/python3.8/site-packages/seaborn/distributions.py:2557: FutureWarning: `distplot` is a deprecated function and will be removed in a future version. Please adapt your code to use either `displot` (a figure-level function with similar flexibility) or `histplot` (an axes-level function for histograms).\n",
      "  warnings.warn(msg, FutureWarning)\n"
     ]
    },
    {
     "data": {
      "image/png": "[encoded data removed]",
      "text/plain": [
       "<Figure size 432x288 with 1 Axes>"
      ]
     },
     "metadata": {
      "needs_background": "light"
     },
     "output_type": "display_data"
    }
   ],
   "source": [
    "salary_ceo_IQM = list(filter(lambda x: (x> 62891)& (x < 160118) ,salary_simulated)) # trimmming out the outliers\n",
    "sns.distplot(salary_ceo_IQM)\n",
    "\n",
    "print(f\"mean salary of amazon employee = {np.mean(salary_ceo_Removed_outlier)}\")\n",
    "print(f\"median salary of amazon employee = {np.median(salary_ceo_Removed_outlier)}\")"
   ]
  },
  {
   "cell_type": "markdown",
   "id": "d8255c82",
   "metadata": {},
   "source": [
    "# 5) Mode"
   ]
  },
  {
   "cell_type": "code",
   "execution_count": 49,
   "id": "82fb11d6",
   "metadata": {},
   "outputs": [
    {
     "name": "stderr",
     "output_type": "stream",
     "text": [
      "/home/milan/anaconda3/lib/python3.8/site-packages/seaborn/distributions.py:2557: FutureWarning: `distplot` is a deprecated function and will be removed in a future version. Please adapt your code to use either `displot` (a figure-level function with similar flexibility) or `histplot` (an axes-level function for histograms).\n",
      "  warnings.warn(msg, FutureWarning)\n"
     ]
    },
    {
     "data": {
      "text/plain": [
       "<AxesSubplot:ylabel='Density'>"
      ]
     },
     "execution_count": 49,
     "metadata": {},
     "output_type": "execute_result"
    },
    {
     "data": {
      "image/png": "[encoded data removed]",
      "text/plain": [
       "<Figure size 432x288 with 1 Axes>"
      ]
     },
     "metadata": {
      "needs_background": "light"
     },
     "output_type": "display_data"
    }
   ],
   "source": [
    "sns.distplot(salary)"
   ]
  },
  {
   "cell_type": "code",
   "execution_count": 70,
   "id": "d18a6ba6",
   "metadata": {},
   "outputs": [
    {
     "data": {
      "text/html": [
       "<div>\n",
       "<style scoped>\n",
       "    .dataframe tbody tr th:only-of-type {\n",
       "        vertical-align: middle;\n",
       "    }\n",
       "\n",
       "    .dataframe tbody tr th {\n",
       "        vertical-align: top;\n",
       "    }\n",
       "\n",
       "    .dataframe thead th {\n",
       "        text-align: right;\n",
       "    }\n",
       "</style>\n",
       "<table border=\"1\" class=\"dataframe\">\n",
       "  <thead>\n",
       "    <tr style=\"text-align: right;\">\n",
       "      <th></th>\n",
       "      <th>0</th>\n",
       "    </tr>\n",
       "    <tr>\n",
       "      <th>index</th>\n",
       "      <th></th>\n",
       "    </tr>\n",
       "  </thead>\n",
       "  <tbody>\n",
       "    <tr>\n",
       "      <th>(-27890.628, -3535.769]</th>\n",
       "      <td>1</td>\n",
       "    </tr>\n",
       "    <tr>\n",
       "      <th>(-3535.769, 20577.954]</th>\n",
       "      <td>3</td>\n",
       "    </tr>\n",
       "    <tr>\n",
       "      <th>(20577.954, 44691.676]</th>\n",
       "      <td>3</td>\n",
       "    </tr>\n",
       "    <tr>\n",
       "      <th>(44691.676, 68805.398]</th>\n",
       "      <td>5</td>\n",
       "    </tr>\n",
       "    <tr>\n",
       "      <th>(68805.398, 92919.12]</th>\n",
       "      <td>9</td>\n",
       "    </tr>\n",
       "    <tr>\n",
       "      <th>(92919.12, 117032.842]</th>\n",
       "      <td>8</td>\n",
       "    </tr>\n",
       "    <tr>\n",
       "      <th>(117032.842, 141146.565]</th>\n",
       "      <td>7</td>\n",
       "    </tr>\n",
       "    <tr>\n",
       "      <th>(141146.565, 165260.287]</th>\n",
       "      <td>5</td>\n",
       "    </tr>\n",
       "    <tr>\n",
       "      <th>(165260.287, 189374.009]</th>\n",
       "      <td>5</td>\n",
       "    </tr>\n",
       "    <tr>\n",
       "      <th>(189374.009, 213487.731]</th>\n",
       "      <td>4</td>\n",
       "    </tr>\n",
       "  </tbody>\n",
       "</table>\n",
       "</div>"
      ],
      "text/plain": [
       "                          0\n",
       "index                      \n",
       "(-27890.628, -3535.769]   1\n",
       "(-3535.769, 20577.954]    3\n",
       "(20577.954, 44691.676]    3\n",
       "(44691.676, 68805.398]    5\n",
       "(68805.398, 92919.12]     9\n",
       "(92919.12, 117032.842]    8\n",
       "(117032.842, 141146.565]  7\n",
       "(141146.565, 165260.287]  5\n",
       "(165260.287, 189374.009]  5\n",
       "(189374.009, 213487.731]  4"
      ]
     },
     "execution_count": 70,
     "metadata": {},
     "output_type": "execute_result"
    }
   ],
   "source": [
    "test = pd.Series(salary)\n",
    "test.index = pd.cut(test,bins=10)\n",
    "data = test.reset_index()\n",
    "data.groupby(\"index\").count()"
   ]
  },
  {
   "cell_type": "code",
   "execution_count": 76,
   "id": "90cd429c",
   "metadata": {},
   "outputs": [
    {
     "data": {
      "text/plain": [
       "a    4\n",
       "c    2\n",
       "b    1\n",
       "dtype: int64"
      ]
     },
     "execution_count": 76,
     "metadata": {},
     "output_type": "execute_result"
    }
   ],
   "source": [
    "cat_data = pd.Series([\"a\", \"b\", \"c\", \"a\",\"a\",\"a\",\"c\"], dtype=\"category\")\n",
    "cat_data.value_counts()"
   ]
  },
  {
   "cell_type": "code",
   "execution_count": 77,
   "id": "0521ac8e",
   "metadata": {},
   "outputs": [
    {
     "data": {
      "text/plain": [
       "<AxesSubplot:>"
      ]
     },
     "execution_count": 77,
     "metadata": {},
     "output_type": "execute_result"
    },
    {
     "data": {
      "image/png": "[encoded data removed]",
      "text/plain": [
       "<Figure size 432x288 with 1 Axes>"
      ]
     },
     "metadata": {
      "needs_background": "light"
     },
     "output_type": "display_data"
    }
   ],
   "source": [
    "cat_data.value_counts().plot.bar()"
   ]
  },
  {
   "cell_type": "markdown",
   "id": "cde4bb83",
   "metadata": {},
   "source": [
    "# Measure of spread (dispersion)"
   ]
  },
  {
   "cell_type": "markdown",
   "id": "beaca962",
   "metadata": {},
   "source": [
    "# 1) range"
   ]
  },
  {
   "cell_type": "code",
   "execution_count": 78,
   "id": "164d1d99",
   "metadata": {},
   "outputs": [
    {
     "data": {
      "text/plain": [
       "array([188202.61729838, 120007.86041836, 148936.89920529, 212044.65996007,\n",
       "       193377.8995075 ,  51136.10600618, 147504.42087628,  92432.13958512,\n",
       "        94839.05741032, 120529.92509692, 107202.17855804, 172713.67534815,\n",
       "       138051.88625735, 106083.75082464, 122193.16163727, 116683.71636871,\n",
       "       174703.95365788,  89742.08681171, 115653.38508255,  57295.21303491,\n",
       "       -27649.4907917 , 132680.92977202, 143221.80994298,  62891.74897968,\n",
       "       213487.73119938,  27281.71627006, 102287.92586507,  90640.80749871,\n",
       "       176638.96071792, 173467.93849501, 107747.37128485, 118908.12598011,\n",
       "        55610.71261849,    960.1765888 ,  82604.39253369, 107817.4484552 ,\n",
       "       161514.53403639, 160118.99243922,  80633.6591296 ,  84884.86247123,\n",
       "        47572.35174665,  28999.10314105,  14686.49046875, 197538.76976159,\n",
       "        74517.39091242,  78096.28491944,  37360.2319975 , 138874.5177916 ,\n",
       "        19305.1076221 ,  89362.9859893 ])"
      ]
     },
     "execution_count": 78,
     "metadata": {},
     "output_type": "execute_result"
    }
   ],
   "source": [
    "salary"
   ]
  },
  {
   "cell_type": "code",
   "execution_count": 81,
   "id": "f8dd180b",
   "metadata": {},
   "outputs": [
    {
     "name": "stdout",
     "output_type": "stream",
     "text": [
      "range of salary=241137.22199108434\n"
     ]
    }
   ],
   "source": [
    "range_of_salary = np.max(salary) - np.min(salary)\n",
    "print(f\"range of salary={range_of_salary}\")"
   ]
  },
  {
   "cell_type": "code",
   "execution_count": 83,
   "id": "30f22000",
   "metadata": {},
   "outputs": [
    {
     "name": "stdout",
     "output_type": "stream",
     "text": [
      "range of salary=10027649.490791705\n"
     ]
    }
   ],
   "source": [
    "range_of_salary_Ceo = np.max(salary_ceo) - np.min(salary_ceo)\n",
    "print(f\"range of salary={range_of_salary_Ceo}\") # outlier its get wider"
   ]
  },
  {
   "cell_type": "markdown",
   "id": "f7645578",
   "metadata": {},
   "source": [
    "# 2) IQR"
   ]
  },
  {
   "cell_type": "code",
   "execution_count": 84,
   "id": "b3a465f8",
   "metadata": {},
   "outputs": [
    {
     "name": "stdout",
     "output_type": "stream",
     "text": [
      "76306.837915929 107747.37128484581 148220.66004078323\n"
     ]
    }
   ],
   "source": [
    "q1 = np.percentile(salary_ceo,25)\n",
    "q2 = np.percentile(salary_ceo,50)\n",
    "q3 = np.percentile(salary_ceo,75)\n",
    "\n",
    "print(q1,q2,q3)"
   ]
  },
  {
   "cell_type": "code",
   "execution_count": 85,
   "id": "66853fe6",
   "metadata": {},
   "outputs": [
    {
     "name": "stdout",
     "output_type": "stream",
     "text": [
      "iqr of salary=71913.82212485422\n"
     ]
    }
   ],
   "source": [
    "# IQR\n",
    "iqr = q3-q1\n",
    "print(f\"iqr of salary={iqr}\")"
   ]
  },
  {
   "cell_type": "code",
   "execution_count": 87,
   "id": "c833a87d",
   "metadata": {},
   "outputs": [
    {
     "name": "stderr",
     "output_type": "stream",
     "text": [
      "/home/milan/anaconda3/lib/python3.8/site-packages/seaborn/_decorators.py:36: FutureWarning: Pass the following variable as a keyword arg: x. From version 0.12, the only valid positional argument will be `data`, and passing other arguments without an explicit keyword will result in an error or misinterpretation.\n",
      "  warnings.warn(\n"
     ]
    },
    {
     "data": {
      "text/plain": [
       "<AxesSubplot:>"
      ]
     },
     "execution_count": 87,
     "metadata": {},
     "output_type": "execute_result"
    },
    {
     "data": {
      "image/png": "[encoded data removed]",
      "text/plain": [
       "<Figure size 432x288 with 1 Axes>"
      ]
     },
     "metadata": {
      "needs_background": "light"
     },
     "output_type": "display_data"
    }
   ],
   "source": [
    "sns.boxplot(salary)"
   ]
  },
  {
   "cell_type": "code",
   "execution_count": 88,
   "id": "d10eb1e3",
   "metadata": {},
   "outputs": [
    {
     "name": "stderr",
     "output_type": "stream",
     "text": [
      "/home/milan/anaconda3/lib/python3.8/site-packages/seaborn/_decorators.py:36: FutureWarning: Pass the following variable as a keyword arg: x. From version 0.12, the only valid positional argument will be `data`, and passing other arguments without an explicit keyword will result in an error or misinterpretation.\n",
      "  warnings.warn(\n"
     ]
    },
    {
     "data": {
      "text/plain": [
       "<AxesSubplot:>"
      ]
     },
     "execution_count": 88,
     "metadata": {},
     "output_type": "execute_result"
    },
    {
     "data": {
      "image/png": "[encoded data removed]",
      "text/plain": [
       "<Figure size 432x288 with 1 Axes>"
      ]
     },
     "metadata": {
      "needs_background": "light"
     },
     "output_type": "display_data"
    }
   ],
   "source": [
    "sns.boxplot(salary_ceo)"
   ]
  },
  {
   "cell_type": "code",
   "execution_count": 89,
   "id": "61b3b77d",
   "metadata": {},
   "outputs": [
    {
     "data": {
      "text/html": [
       "<div>\n",
       "<style scoped>\n",
       "    .dataframe tbody tr th:only-of-type {\n",
       "        vertical-align: middle;\n",
       "    }\n",
       "\n",
       "    .dataframe tbody tr th {\n",
       "        vertical-align: top;\n",
       "    }\n",
       "\n",
       "    .dataframe thead th {\n",
       "        text-align: right;\n",
       "    }\n",
       "</style>\n",
       "<table border=\"1\" class=\"dataframe\">\n",
       "  <thead>\n",
       "    <tr style=\"text-align: right;\">\n",
       "      <th></th>\n",
       "      <th>total_bill</th>\n",
       "      <th>tip</th>\n",
       "      <th>sex</th>\n",
       "      <th>smoker</th>\n",
       "      <th>day</th>\n",
       "      <th>time</th>\n",
       "      <th>size</th>\n",
       "    </tr>\n",
       "  </thead>\n",
       "  <tbody>\n",
       "    <tr>\n",
       "      <th>0</th>\n",
       "      <td>16.99</td>\n",
       "      <td>1.01</td>\n",
       "      <td>Female</td>\n",
       "      <td>No</td>\n",
       "      <td>Sun</td>\n",
       "      <td>Dinner</td>\n",
       "      <td>2</td>\n",
       "    </tr>\n",
       "    <tr>\n",
       "      <th>1</th>\n",
       "      <td>10.34</td>\n",
       "      <td>1.66</td>\n",
       "      <td>Male</td>\n",
       "      <td>No</td>\n",
       "      <td>Sun</td>\n",
       "      <td>Dinner</td>\n",
       "      <td>3</td>\n",
       "    </tr>\n",
       "    <tr>\n",
       "      <th>2</th>\n",
       "      <td>21.01</td>\n",
       "      <td>3.50</td>\n",
       "      <td>Male</td>\n",
       "      <td>No</td>\n",
       "      <td>Sun</td>\n",
       "      <td>Dinner</td>\n",
       "      <td>3</td>\n",
       "    </tr>\n",
       "    <tr>\n",
       "      <th>3</th>\n",
       "      <td>23.68</td>\n",
       "      <td>3.31</td>\n",
       "      <td>Male</td>\n",
       "      <td>No</td>\n",
       "      <td>Sun</td>\n",
       "      <td>Dinner</td>\n",
       "      <td>2</td>\n",
       "    </tr>\n",
       "    <tr>\n",
       "      <th>4</th>\n",
       "      <td>24.59</td>\n",
       "      <td>3.61</td>\n",
       "      <td>Female</td>\n",
       "      <td>No</td>\n",
       "      <td>Sun</td>\n",
       "      <td>Dinner</td>\n",
       "      <td>4</td>\n",
       "    </tr>\n",
       "  </tbody>\n",
       "</table>\n",
       "</div>"
      ],
      "text/plain": [
       "   total_bill   tip     sex smoker  day    time  size\n",
       "0       16.99  1.01  Female     No  Sun  Dinner     2\n",
       "1       10.34  1.66    Male     No  Sun  Dinner     3\n",
       "2       21.01  3.50    Male     No  Sun  Dinner     3\n",
       "3       23.68  3.31    Male     No  Sun  Dinner     2\n",
       "4       24.59  3.61  Female     No  Sun  Dinner     4"
      ]
     },
     "execution_count": 89,
     "metadata": {},
     "output_type": "execute_result"
    }
   ],
   "source": [
    "tips = sns.load_dataset(\"tips\")\n",
    "tips.head()"
   ]
  },
  {
   "cell_type": "code",
   "execution_count": 90,
   "id": "7937d9fc",
   "metadata": {},
   "outputs": [
    {
     "name": "stderr",
     "output_type": "stream",
     "text": [
      "/home/milan/anaconda3/lib/python3.8/site-packages/seaborn/_decorators.py:36: FutureWarning: Pass the following variable as a keyword arg: x. From version 0.12, the only valid positional argument will be `data`, and passing other arguments without an explicit keyword will result in an error or misinterpretation.\n",
      "  warnings.warn(\n"
     ]
    },
    {
     "data": {
      "text/plain": [
       "<AxesSubplot:xlabel='total_bill'>"
      ]
     },
     "execution_count": 90,
     "metadata": {},
     "output_type": "execute_result"
    },
    {
     "data": {
      "image/png": "[encoded data removed]",
      "text/plain": [
       "<Figure size 432x288 with 1 Axes>"
      ]
     },
     "metadata": {
      "needs_background": "light"
     },
     "output_type": "display_data"
    }
   ],
   "source": [
    "sns.boxplot(tips[\"total_bill\"])"
   ]
  },
  {
   "cell_type": "code",
   "execution_count": 91,
   "id": "281a2088",
   "metadata": {},
   "outputs": [],
   "source": [
    "q1 = np.percentile(tips[\"total_bill\"],25)\n",
    "q3 = np.percentile(tips[\"total_bill\"],75)\n",
    "\n",
    "iqr = q3 - q1\n",
    "goodvalue = 1.5*iqr\n"
   ]
  },
  {
   "cell_type": "code",
   "execution_count": 92,
   "id": "cf90fccc",
   "metadata": {},
   "outputs": [],
   "source": [
    "ul = q3 + goodvalue\n",
    "ll = q1 - goodvalue"
   ]
  },
  {
   "cell_type": "code",
   "execution_count": 94,
   "id": "7622d890",
   "metadata": {},
   "outputs": [
    {
     "data": {
      "text/plain": [
       "(-2.8224999999999945, 40.29749999999999)"
      ]
     },
     "execution_count": 94,
     "metadata": {},
     "output_type": "execute_result"
    }
   ],
   "source": [
    " ll,ul "
   ]
  },
  {
   "cell_type": "code",
   "execution_count": 95,
   "id": "0895e02d",
   "metadata": {},
   "outputs": [
    {
     "data": {
      "text/html": [
       "<div>\n",
       "<style scoped>\n",
       "    .dataframe tbody tr th:only-of-type {\n",
       "        vertical-align: middle;\n",
       "    }\n",
       "\n",
       "    .dataframe tbody tr th {\n",
       "        vertical-align: top;\n",
       "    }\n",
       "\n",
       "    .dataframe thead th {\n",
       "        text-align: right;\n",
       "    }\n",
       "</style>\n",
       "<table border=\"1\" class=\"dataframe\">\n",
       "  <thead>\n",
       "    <tr style=\"text-align: right;\">\n",
       "      <th></th>\n",
       "      <th>total_bill</th>\n",
       "      <th>tip</th>\n",
       "      <th>sex</th>\n",
       "      <th>smoker</th>\n",
       "      <th>day</th>\n",
       "      <th>time</th>\n",
       "      <th>size</th>\n",
       "    </tr>\n",
       "  </thead>\n",
       "  <tbody>\n",
       "    <tr>\n",
       "      <th>59</th>\n",
       "      <td>48.27</td>\n",
       "      <td>6.73</td>\n",
       "      <td>Male</td>\n",
       "      <td>No</td>\n",
       "      <td>Sat</td>\n",
       "      <td>Dinner</td>\n",
       "      <td>4</td>\n",
       "    </tr>\n",
       "    <tr>\n",
       "      <th>102</th>\n",
       "      <td>44.30</td>\n",
       "      <td>2.50</td>\n",
       "      <td>Female</td>\n",
       "      <td>Yes</td>\n",
       "      <td>Sat</td>\n",
       "      <td>Dinner</td>\n",
       "      <td>3</td>\n",
       "    </tr>\n",
       "    <tr>\n",
       "      <th>142</th>\n",
       "      <td>41.19</td>\n",
       "      <td>5.00</td>\n",
       "      <td>Male</td>\n",
       "      <td>No</td>\n",
       "      <td>Thur</td>\n",
       "      <td>Lunch</td>\n",
       "      <td>5</td>\n",
       "    </tr>\n",
       "    <tr>\n",
       "      <th>156</th>\n",
       "      <td>48.17</td>\n",
       "      <td>5.00</td>\n",
       "      <td>Male</td>\n",
       "      <td>No</td>\n",
       "      <td>Sun</td>\n",
       "      <td>Dinner</td>\n",
       "      <td>6</td>\n",
       "    </tr>\n",
       "    <tr>\n",
       "      <th>170</th>\n",
       "      <td>50.81</td>\n",
       "      <td>10.00</td>\n",
       "      <td>Male</td>\n",
       "      <td>Yes</td>\n",
       "      <td>Sat</td>\n",
       "      <td>Dinner</td>\n",
       "      <td>3</td>\n",
       "    </tr>\n",
       "    <tr>\n",
       "      <th>182</th>\n",
       "      <td>45.35</td>\n",
       "      <td>3.50</td>\n",
       "      <td>Male</td>\n",
       "      <td>Yes</td>\n",
       "      <td>Sun</td>\n",
       "      <td>Dinner</td>\n",
       "      <td>3</td>\n",
       "    </tr>\n",
       "    <tr>\n",
       "      <th>184</th>\n",
       "      <td>40.55</td>\n",
       "      <td>3.00</td>\n",
       "      <td>Male</td>\n",
       "      <td>Yes</td>\n",
       "      <td>Sun</td>\n",
       "      <td>Dinner</td>\n",
       "      <td>2</td>\n",
       "    </tr>\n",
       "    <tr>\n",
       "      <th>197</th>\n",
       "      <td>43.11</td>\n",
       "      <td>5.00</td>\n",
       "      <td>Female</td>\n",
       "      <td>Yes</td>\n",
       "      <td>Thur</td>\n",
       "      <td>Lunch</td>\n",
       "      <td>4</td>\n",
       "    </tr>\n",
       "    <tr>\n",
       "      <th>212</th>\n",
       "      <td>48.33</td>\n",
       "      <td>9.00</td>\n",
       "      <td>Male</td>\n",
       "      <td>No</td>\n",
       "      <td>Sat</td>\n",
       "      <td>Dinner</td>\n",
       "      <td>4</td>\n",
       "    </tr>\n",
       "  </tbody>\n",
       "</table>\n",
       "</div>"
      ],
      "text/plain": [
       "     total_bill    tip     sex smoker   day    time  size\n",
       "59        48.27   6.73    Male     No   Sat  Dinner     4\n",
       "102       44.30   2.50  Female    Yes   Sat  Dinner     3\n",
       "142       41.19   5.00    Male     No  Thur   Lunch     5\n",
       "156       48.17   5.00    Male     No   Sun  Dinner     6\n",
       "170       50.81  10.00    Male    Yes   Sat  Dinner     3\n",
       "182       45.35   3.50    Male    Yes   Sun  Dinner     3\n",
       "184       40.55   3.00    Male    Yes   Sun  Dinner     2\n",
       "197       43.11   5.00  Female    Yes  Thur   Lunch     4\n",
       "212       48.33   9.00    Male     No   Sat  Dinner     4"
      ]
     },
     "execution_count": 95,
     "metadata": {},
     "output_type": "execute_result"
    }
   ],
   "source": [
    "tips[(tips[\"total_bill\"] < -2.8224999999999945) | (tips[\"total_bill\"] > 40.29749999999999)]"
   ]
  },
  {
   "cell_type": "markdown",
   "id": "92e8562e",
   "metadata": {},
   "source": [
    "# 3. variance"
   ]
  },
  {
   "cell_type": "code",
   "execution_count": 97,
   "id": "d47e1900",
   "metadata": {},
   "outputs": [],
   "source": [
    "mean= tips[\"total_bill\"].mean()"
   ]
  },
  {
   "cell_type": "code",
   "execution_count": 101,
   "id": "fbbd0176",
   "metadata": {},
   "outputs": [
    {
     "data": {
      "text/plain": [
       "78.92813148851113"
      ]
     },
     "execution_count": 101,
     "metadata": {},
     "output_type": "execute_result"
    }
   ],
   "source": [
    "(sum((tips[\"total_bill\"]-mean)**2))/tips.shape[0]"
   ]
  },
  {
   "cell_type": "code",
   "execution_count": 105,
   "id": "16ba11d6",
   "metadata": {},
   "outputs": [
    {
     "data": {
      "text/plain": [
       "79.25293861397826"
      ]
     },
     "execution_count": 105,
     "metadata": {},
     "output_type": "execute_result"
    }
   ],
   "source": [
    "tips[\"total_bill\"].var() # sample variance"
   ]
  },
  {
   "cell_type": "code",
   "execution_count": 106,
   "id": "61f0d2c6",
   "metadata": {},
   "outputs": [
    {
     "data": {
      "text/plain": [
       "78.92813148851113"
      ]
     },
     "execution_count": 106,
     "metadata": {},
     "output_type": "execute_result"
    }
   ],
   "source": [
    "np.var(tips[\"total_bill\"])"
   ]
  },
  {
   "cell_type": "markdown",
   "id": "043a6cee",
   "metadata": {},
   "source": [
    "# 4. Standard deviation"
   ]
  },
  {
   "cell_type": "code",
   "execution_count": 108,
   "id": "a71cdee3",
   "metadata": {},
   "outputs": [
    {
     "data": {
      "text/plain": [
       "8.88415057777113"
      ]
     },
     "execution_count": 108,
     "metadata": {},
     "output_type": "execute_result"
    }
   ],
   "source": [
    "np.std(tips[\"total_bill\"])"
   ]
  },
  {
   "cell_type": "code",
   "execution_count": 109,
   "id": "d234fedb",
   "metadata": {},
   "outputs": [
    {
     "data": {
      "text/plain": [
       "8.902411954856856"
      ]
     },
     "execution_count": 109,
     "metadata": {},
     "output_type": "execute_result"
    }
   ],
   "source": [
    "tips[\"total_bill\"].std()"
   ]
  },
  {
   "cell_type": "markdown",
   "id": "d2d7dec4",
   "metadata": {},
   "source": [
    "# Mesure of shape"
   ]
  },
  {
   "cell_type": "markdown",
   "id": "383a3cfb",
   "metadata": {},
   "source": [
    "## 1) Skewness"
   ]
  },
  {
   "cell_type": "code",
   "execution_count": 111,
   "id": "48b64c86",
   "metadata": {},
   "outputs": [
    {
     "name": "stderr",
     "output_type": "stream",
     "text": [
      "/home/milan/anaconda3/lib/python3.8/site-packages/seaborn/distributions.py:2557: FutureWarning: `distplot` is a deprecated function and will be removed in a future version. Please adapt your code to use either `displot` (a figure-level function with similar flexibility) or `histplot` (an axes-level function for histograms).\n",
      "  warnings.warn(msg, FutureWarning)\n"
     ]
    },
    {
     "data": {
      "text/plain": [
       "<AxesSubplot:xlabel='total_bill', ylabel='Density'>"
      ]
     },
     "execution_count": 111,
     "metadata": {},
     "output_type": "execute_result"
    },
    {
     "data": {
      "image/png": "[encoded data removed]",
      "text/plain": [
       "<Figure size 432x288 with 1 Axes>"
      ]
     },
     "metadata": {
      "needs_background": "light"
     },
     "output_type": "display_data"
    }
   ],
   "source": [
    "sns.distplot(tips[\"total_bill\"])"
   ]
  },
  {
   "cell_type": "code",
   "execution_count": 113,
   "id": "89466da5",
   "metadata": {},
   "outputs": [
    {
     "data": {
      "text/plain": [
       "<AxesSubplot:xlabel='total_bill', ylabel='Density'>"
      ]
     },
     "execution_count": 113,
     "metadata": {},
     "output_type": "execute_result"
    },
    {
     "data": {
      "image/png": "[encoded data removed]",
      "text/plain": [
       "<Figure size 432x288 with 1 Axes>"
      ]
     },
     "metadata": {
      "needs_background": "light"
     },
     "output_type": "display_data"
    }
   ],
   "source": [
    "sns.kdeplot(tips.total_bill)"
   ]
  },
  {
   "cell_type": "code",
   "execution_count": 120,
   "id": "157e4473",
   "metadata": {},
   "outputs": [
    {
     "data": {
      "text/plain": [
       "1.1332130376158205"
      ]
     },
     "execution_count": 120,
     "metadata": {},
     "output_type": "execute_result"
    }
   ],
   "source": [
    "tips[\"total_bill\"].skew()"
   ]
  },
  {
   "cell_type": "code",
   "execution_count": 114,
   "id": "afa7bffc",
   "metadata": {},
   "outputs": [
    {
     "data": {
      "text/plain": [
       "<matplotlib.lines.Line2D at 0x7fbeda72e8b0>"
      ]
     },
     "execution_count": 114,
     "metadata": {},
     "output_type": "execute_result"
    },
    {
     "data": {
      "image/png": "[encoded data removed]",
      "text/plain": [
       "<Figure size 432x288 with 1 Axes>"
      ]
     },
     "metadata": {
      "needs_background": "light"
     },
     "output_type": "display_data"
    }
   ],
   "source": [
    "sns.kdeplot(tips.total_bill)\n",
    "plt.axvline(tips.total_bill.mean(),color='red')\n",
    "plt.axvline(tips.total_bill.median(),color = 'orange')"
   ]
  },
  {
   "cell_type": "markdown",
   "id": "f3df7f4f",
   "metadata": {},
   "source": [
    "## 2) kutosis"
   ]
  },
  {
   "cell_type": "code",
   "execution_count": 117,
   "id": "6a6b0a1c",
   "metadata": {},
   "outputs": [
    {
     "data": {
      "text/plain": [
       "1.2184840156638854"
      ]
     },
     "execution_count": 117,
     "metadata": {},
     "output_type": "execute_result"
    }
   ],
   "source": [
    "tips[\"total_bill\"].kurt()"
   ]
  },
  {
   "cell_type": "code",
   "execution_count": 118,
   "id": "b289597c",
   "metadata": {},
   "outputs": [
    {
     "data": {
      "text/plain": [
       "<AxesSubplot:ylabel='Density'>"
      ]
     },
     "execution_count": 118,
     "metadata": {},
     "output_type": "execute_result"
    },
    {
     "data": {
      "image/png": "[encoded data removed]",
      "text/plain": [
       "<Figure size 432x288 with 1 Axes>"
      ]
     },
     "metadata": {
      "needs_background": "light"
     },
     "output_type": "display_data"
    }
   ],
   "source": [
    "sns.kdeplot(salary)"
   ]
  },
  {
   "cell_type": "code",
   "execution_count": null,
   "id": "dd3061c0",
   "metadata": {},
   "outputs": [],
   "source": []
  }
 ],
 "metadata": {
  "kernelspec": {
   "display_name": "Python 3 (ipykernel)",
   "language": "python",
   "name": "python3"
  },
  "language_info": {
   "codemirror_mode": {
    "name": "ipython",
    "version": 3
   },
   "file_extension": ".py",
   "mimetype": "text/x-python",
   "name": "python",
   "nbconvert_exporter": "python",
   "pygments_lexer": "ipython3",
   "version": "3.9.7"
  }
 },
 "nbformat": 4,
 "nbformat_minor": 5
}
