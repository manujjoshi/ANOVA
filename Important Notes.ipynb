{
 "cells": [
  {
   "cell_type": "markdown",
   "id": "79be37ab",
   "metadata": {},
   "source": [
    "# `Probability Distributions`\n",
    "#### In case of discrete random variable, the probability distribution is defined by `probability mass function`.\n",
    "#### In case of continuous random variable, the probability distribution is defined by `probability density function`.\n",
    "\n",
    "### 1. Geometric Distribution\n",
    "[Link for indepth intuition](https://www.cuemath.com/geometric-distribution-formula/)\n",
    "- Probability Mass Function(PMF) => P(x=n) = q**(n-1) * p\n",
    "- E(x) = 1/p\n",
    "- var(x) = (1-p)/p\\**2"
   ]
  },
  {
   "cell_type": "code",
   "execution_count": null,
   "id": "dc21c093",
   "metadata": {},
   "outputs": [],
   "source": []
  }
 ],
 "metadata": {
  "kernelspec": {
   "display_name": "Python 3 (ipykernel)",
   "language": "python",
   "name": "python3"
  },
  "language_info": {
   "codemirror_mode": {
    "name": "ipython",
    "version": 3
   },
   "file_extension": ".py",
   "mimetype": "text/x-python",
   "name": "python",
   "nbconvert_exporter": "python",
   "pygments_lexer": "ipython3",
   "version": "3.9.7"
  }
 },
 "nbformat": 4,
 "nbformat_minor": 5
}
